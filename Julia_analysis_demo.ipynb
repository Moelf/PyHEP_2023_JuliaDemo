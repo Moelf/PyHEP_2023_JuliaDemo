{
 "cells": [
  {
   "cell_type": "markdown",
   "id": "365d7fe2-27d4-4ff5-9ace-1ecab458df2b",
   "metadata": {
    "slideshow": {
     "slide_type": "slide"
    }
   },
   "source": [
    "## Let's install Julia first\n",
    "\n",
    "1. Visit https://julialang.org/downloads/ and get 1.9.2\n",
    "2. (not recommended using Linux distribution installer, sometimes broken. Unless you're Arch user, then install `julia-bin` from AUR is fine)\n",
    "3. Run Julia executable, you will be dropped into a REPL:\n",
    "```\n",
    "$ > julia\n",
    "               _\n",
    "   _       _ _(_)_     |  Documentation: https://docs.julialang.org\n",
    "  (_)     | (_) (_)    |\n",
    "   _ _   _| |_  __ _   |  Type \"?\" for help, \"]?\" for Pkg help.\n",
    "  | | | | | | |/ _` |  |\n",
    "  | | |_| | | | (_| |  |  Version 1.9.2 (2023-07-05)\n",
    " _/ |\\__'_|_|_|\\__'_|  |  Official https://julialang.org/ release\n",
    "|__/                   |\n",
    "\n",
    "julia>\n",
    "```\n",
    "4. hit `]` once to switch to Pkg mode, and run\n",
    "```\n",
    "pkg> add IJulia, UnROOT, CairoMakie, FHist, MethodAnalysis\n",
    "```\n",
    "5. Look at the screen again when waiting for precompilation\n",
    "\n",
    "(note: a better way is to use a Manifest.toml file to completely capture environment, and also not install project specific packages in your home environment. https://github.com/Moelf/PyHEP_2023_JuliaDemo)\n"
   ]
  },
  {
   "cell_type": "markdown",
   "id": "afd8e1bd-a8ef-4627-a372-edb63883f920",
   "metadata": {
    "slideshow": {
     "slide_type": "slide"
    }
   },
   "source": [
    "## Why Julia - language perspective\n",
    "\n",
    "Because it's actually unique from a programming language technical perspective:\n",
    "\n",
    "Jim Pivarski @ https://indico.cern.ch/event/958432/contributions/4028932/attachments/2113570/3555538/main.pdf\n",
    "\n",
    "![](https://user-images.githubusercontent.com/5306213/255734909-ff573be4-797b-4e33-8095-128c1f8782e5.png)"
   ]
  },
  {
   "cell_type": "markdown",
   "id": "51710835",
   "metadata": {
    "slideshow": {
     "slide_type": "subslide"
    }
   },
   "source": [
    "## Anyone using Julia in the real world?\n",
    "\n",
    "- Pfizer (pharma involves lots of differential equations)\n",
    "- ASML (running on their lithography machines, replacing old MATLAB mixed with C++)\n",
    "- Climate modeling (CliMA collaboration)\n",
    "- more"
   ]
  },
  {
   "cell_type": "markdown",
   "id": "2012136a-49f9-452c-a342-144cbdc801fd",
   "metadata": {
    "slideshow": {
     "slide_type": "subslide"
    }
   },
   "source": [
    "## What's the advantage & Why Julia for HEP\n",
    "I want to highlight two perspectives:\n",
    "\n",
    "### Direct explaination\n",
    "(picked from https://arxiv.org/abs/2306.03675, White Paper on Julia for HEP)\n",
    "\n",
    "- Easy to prototype for physicists and can be improved to C/C++ like performance within the same language, just by using it more\n",
    "- Built-in package manager for reproducibility, including binary dependencies\n",
    "- Designed for technical computing, e.g. includes threads / distributed stdlibs\n",
    "- more\n",
    "\n",
    "### Horizontal comparisons\n",
    "- JIT being the underpinning of recent development in compilation model in both Python: PyPy, Pyston, Pyjion, Numba, Jax, PyTorch, (Python itself soon), Mojo\n",
    "- and C++ (most relevant for HEP) Cling\n",
    "- What if we have a language designed with JIT in mind from get go?\n",
    "\n",
    "(every time I make the Python x JIT list it grows longer)"
   ]
  },
  {
   "cell_type": "markdown",
   "id": "29d9a8ee",
   "metadata": {
    "slideshow": {
     "slide_type": "subslide"
    }
   },
   "source": [
    "## Motivation & goals for today\n",
    "\n",
    "Consider this function taken from Numba's introduction. Numba is great because:\n",
    "- you don't write C++\n",
    "- you can write fast loop!\n",
    "\n",
    "#### Python (Numba)\n",
    "```python\n",
    "@jit(nopython=True)\n",
    "def go_fast(a):\n",
    "    trace = 0.0\n",
    "    for i in range(a.shape[0]):\n",
    "        trace += np.tanh(a[i, i])\n",
    "    return a + trace\n",
    "\n",
    "In [2]: x = np.arange(100).reshape(10, 10)\n",
    "In [3]: %timeit go_fast(x)\n",
    "814 ns ± 5.2 ns (mean ± σ)    # Numba\n",
    "16500 ns ± 70.5 ns (mean ± σ) # CPython\n",
    "```\n",
    "\n",
    "but it does have draw back (all JIT x Python solutions do): it's not compatible with all Python."
   ]
  },
  {
   "cell_type": "markdown",
   "id": "4c407b66",
   "metadata": {
    "slideshow": {
     "slide_type": "subslide"
    }
   },
   "source": [
    "the Julia \"sale\" is that:\n",
    "- you still avoid C++\n",
    "- you can write fast anything!*\n",
    "- there's no compatibility issue and \"unhandled\" construct, it's just the language itself\n",
    "\n",
    "#### Julia\n",
    "```julia\n",
    "function go_faster(a)\n",
    "    trace = 0.0\n",
    "    for i in axes(a, 1)\n",
    "        trace += tanh(a[i, i])\n",
    "    end\n",
    "    return a .+ trace\n",
    "end\n",
    "julia> x = reshape(0:99, 10, 10)\n",
    "julia> @benchmark go_faster($x)\n",
    "158.947 ns ± 100.451 ns (mean ± σ) # σ due to GC\n",
    "\n",
    "```"
   ]
  },
  {
   "cell_type": "markdown",
   "id": "552b5818-1ad8-402a-a1ed-fb714fd5fa30",
   "metadata": {
    "slideshow": {
     "slide_type": "subslide"
    }
   },
   "source": [
    "## `Ju` in Jupyter\n",
    "\n",
    "Now, you can press `backspace` to return to REPL mode, then you can run:\n",
    "```julia\n",
    "julia> using IJulia\n",
    "\n",
    "julia> IJulia.notebook(;dir=\"<path of repo>\")\n",
    "```\n",
    "\n",
    "alternatively, you can press `;` to switch to shell mode and cd first, then you can use `pwd()` to get current working path."
   ]
  },
  {
   "cell_type": "code",
   "execution_count": 1,
   "id": "4855de50-2253-4048-85fd-e6371b58ebdb",
   "metadata": {
    "slideshow": {
     "slide_type": "subslide"
    }
   },
   "outputs": [
    {
     "data": {
      "text/plain": [
       "5-element Vector{String}:\n",
       " \".ipynb_checkpoints\"\n",
       " \"Julia_analysis_demo.ipynb\"\n",
       " \"Manifest.toml\"\n",
       " \"Project.toml\"\n",
       " \"data\""
      ]
     },
     "execution_count": 1,
     "metadata": {},
     "output_type": "execute_result"
    }
   ],
   "source": [
    "readdir(@__DIR__)"
   ]
  },
  {
   "cell_type": "code",
   "execution_count": 2,
   "id": "cd395fb0-632b-474b-893e-5539402f8fd1",
   "metadata": {
    "slideshow": {
     "slide_type": "fragment"
    }
   },
   "outputs": [
    {
     "name": "stderr",
     "output_type": "stream",
     "text": [
      "\u001b[32m\u001b[1m  Activating\u001b[22m\u001b[39m project at `~/SynologyDrive/Harvard/JuliaHEP/PyHEP2023`\n"
     ]
    }
   ],
   "source": [
    "# you can skip these if you installed pkgs into home dir\n",
    "using Pkg\n",
    "Pkg.activate(@__DIR__)"
   ]
  },
  {
   "cell_type": "markdown",
   "id": "baf84f89-2586-460a-94a3-c0519270ce96",
   "metadata": {
    "slideshow": {
     "slide_type": "slide"
    }
   },
   "source": [
    "## Generic tips"
   ]
  },
  {
   "cell_type": "code",
   "execution_count": 3,
   "id": "06ffb164",
   "metadata": {
    "jupyter": {
     "outputs_hidden": true
    },
    "slideshow": {
     "slide_type": "fragment"
    }
   },
   "outputs": [
    {
     "name": "stdout",
     "output_type": "stream",
     "text": [
      "search: \u001b[0m\u001b[1ms\u001b[22m\u001b[0m\u001b[1mi\u001b[22m\u001b[0m\u001b[1mn\u001b[22m \u001b[0m\u001b[1ms\u001b[22m\u001b[0m\u001b[1mi\u001b[22m\u001b[0m\u001b[1mn\u001b[22mh \u001b[0m\u001b[1ms\u001b[22m\u001b[0m\u001b[1mi\u001b[22m\u001b[0m\u001b[1mn\u001b[22md \u001b[0m\u001b[1ms\u001b[22m\u001b[0m\u001b[1mi\u001b[22m\u001b[0m\u001b[1mn\u001b[22mc \u001b[0m\u001b[1ms\u001b[22m\u001b[0m\u001b[1mi\u001b[22m\u001b[0m\u001b[1mn\u001b[22mpi \u001b[0m\u001b[1ms\u001b[22m\u001b[0m\u001b[1mi\u001b[22m\u001b[0m\u001b[1mn\u001b[22mcos \u001b[0m\u001b[1ms\u001b[22m\u001b[0m\u001b[1mi\u001b[22m\u001b[0m\u001b[1mn\u001b[22mcosd \u001b[0m\u001b[1ms\u001b[22m\u001b[0m\u001b[1mi\u001b[22m\u001b[0m\u001b[1mn\u001b[22mcospi a\u001b[0m\u001b[1ms\u001b[22m\u001b[0m\u001b[1mi\u001b[22m\u001b[0m\u001b[1mn\u001b[22m u\u001b[0m\u001b[1ms\u001b[22m\u001b[0m\u001b[1mi\u001b[22m\u001b[0m\u001b[1mn\u001b[22mg i\u001b[0m\u001b[1ms\u001b[22m\u001b[0m\u001b[1mi\u001b[22m\u001b[0m\u001b[1mn\u001b[22mf a\u001b[0m\u001b[1ms\u001b[22m\u001b[0m\u001b[1mi\u001b[22m\u001b[0m\u001b[1mn\u001b[22mh\n",
      "\n"
     ]
    },
    {
     "data": {
      "text/latex": [
       "\\begin{verbatim}\n",
       "sin(x)\n",
       "\\end{verbatim}\n",
       "Compute sine of \\texttt{x}, where \\texttt{x} is in radians.\n",
       "\n",
       "See also \\href{@ref}{\\texttt{sind}}, \\href{@ref}{\\texttt{sinpi}}, \\href{@ref}{\\texttt{sincos}}, \\href{@ref}{\\texttt{cis}}, \\href{@ref}{\\texttt{asin}}.\n",
       "\n",
       "\\section{Examples}\n",
       "\\begin{verbatim}\n",
       "julia> round.(sin.(range(0, 2pi, length=9)'), digits=3)\n",
       "1×9 Matrix{Float64}:\n",
       " 0.0  0.707  1.0  0.707  0.0  -0.707  -1.0  -0.707  -0.0\n",
       "\n",
       "julia> sind(45)\n",
       "0.7071067811865476\n",
       "\n",
       "julia> sinpi(1/4)\n",
       "0.7071067811865476\n",
       "\n",
       "julia> round.(sincos(pi/6), digits=3)\n",
       "(0.5, 0.866)\n",
       "\n",
       "julia> round(cis(pi/6), digits=3)\n",
       "0.866 + 0.5im\n",
       "\n",
       "julia> round(exp(im*pi/6), digits=3)\n",
       "0.866 + 0.5im\n",
       "\\end{verbatim}\n",
       "\\rule{\\textwidth}{1pt}\n",
       "\\begin{verbatim}\n",
       "sin(A::AbstractMatrix)\n",
       "\\end{verbatim}\n",
       "Compute the matrix sine of a square matrix \\texttt{A}.\n",
       "\n",
       "If \\texttt{A} is symmetric or Hermitian, its eigendecomposition (\\href{@ref}{\\texttt{eigen}}) is used to compute the sine. Otherwise, the sine is determined by calling \\href{@ref}{\\texttt{exp}}.\n",
       "\n",
       "\\section{Examples}\n",
       "\\begin{verbatim}\n",
       "julia> sin(fill(1.0, (2,2)))\n",
       "2×2 Matrix{Float64}:\n",
       " 0.454649  0.454649\n",
       " 0.454649  0.454649\n",
       "\\end{verbatim}\n"
      ],
      "text/markdown": [
       "```\n",
       "sin(x)\n",
       "```\n",
       "\n",
       "Compute sine of `x`, where `x` is in radians.\n",
       "\n",
       "See also [`sind`](@ref), [`sinpi`](@ref), [`sincos`](@ref), [`cis`](@ref), [`asin`](@ref).\n",
       "\n",
       "# Examples\n",
       "\n",
       "```jldoctest\n",
       "julia> round.(sin.(range(0, 2pi, length=9)'), digits=3)\n",
       "1×9 Matrix{Float64}:\n",
       " 0.0  0.707  1.0  0.707  0.0  -0.707  -1.0  -0.707  -0.0\n",
       "\n",
       "julia> sind(45)\n",
       "0.7071067811865476\n",
       "\n",
       "julia> sinpi(1/4)\n",
       "0.7071067811865476\n",
       "\n",
       "julia> round.(sincos(pi/6), digits=3)\n",
       "(0.5, 0.866)\n",
       "\n",
       "julia> round(cis(pi/6), digits=3)\n",
       "0.866 + 0.5im\n",
       "\n",
       "julia> round(exp(im*pi/6), digits=3)\n",
       "0.866 + 0.5im\n",
       "```\n",
       "\n",
       "---\n",
       "\n",
       "```\n",
       "sin(A::AbstractMatrix)\n",
       "```\n",
       "\n",
       "Compute the matrix sine of a square matrix `A`.\n",
       "\n",
       "If `A` is symmetric or Hermitian, its eigendecomposition ([`eigen`](@ref)) is used to compute the sine. Otherwise, the sine is determined by calling [`exp`](@ref).\n",
       "\n",
       "# Examples\n",
       "\n",
       "```jldoctest\n",
       "julia> sin(fill(1.0, (2,2)))\n",
       "2×2 Matrix{Float64}:\n",
       " 0.454649  0.454649\n",
       " 0.454649  0.454649\n",
       "```\n"
      ],
      "text/plain": [
       "  \u001b[38;2;235;219;178msin\u001b[0m(\u001b[0m\u001b[38;2;235;219;178mx\u001b[0m\u001b[38;2;235;219;178m)\u001b[0m\n",
       "\n",
       "\n",
       "  Compute sine of \u001b[36mx\u001b[39m, where \u001b[36mx\u001b[39m is in radians.\n",
       "\n",
       "  See also \u001b[36msind\u001b[39m, \u001b[36msinpi\u001b[39m, \u001b[36msincos\u001b[39m, \u001b[36mcis\u001b[39m, \u001b[36masin\u001b[39m.\n",
       "\n",
       "\u001b[1m  Examples\u001b[22m\n",
       "\u001b[1m  ≡≡≡≡≡≡≡≡≡≡\u001b[22m\n",
       "\n",
       "  \u001b[31;1mjulia> \u001b[0m\u001b[38;2;235;219;178mround\u001b[0m\u001b[38;2;235;219;178m.\u001b[0m(\u001b[0m\u001b[38;2;235;219;178msin\u001b[0m\u001b[38;2;235;219;178m.\u001b[0m(\u001b[0m\u001b[38;2;235;219;178mrange\u001b[0m(\u001b[0m\u001b[38;2;211;134;155m0\u001b[0m\u001b[38;2;235;219;178m,\u001b[0m \u001b[0m\u001b[38;2;211;134;155m2\u001b[0m\u001b[38;2;235;219;178mpi\u001b[0m\u001b[38;2;235;219;178m,\u001b[0m \u001b[0m\u001b[38;2;235;219;178mlength\u001b[0m\u001b[38;2;235;219;178m=\u001b[0m\u001b[38;2;211;134;155m9\u001b[0m\u001b[38;2;235;219;178m)\u001b[0m\u001b[38;2;235;219;178m'\u001b[0m\u001b[38;2;235;219;178m)\u001b[0m\u001b[38;2;235;219;178m,\u001b[0m \u001b[0m\u001b[38;2;235;219;178mdigits\u001b[0m\u001b[38;2;235;219;178m=\u001b[0m\u001b[38;2;211;134;155m3\u001b[0m\u001b[38;2;235;219;178m)\u001b[0m\n",
       "  \u001b[0m1×9 Matrix{Float64}:\n",
       "   0.0  0.707  1.0  0.707  0.0  -0.707  -1.0  -0.707  -0.0\n",
       "  \n",
       "  \u001b[31;1mjulia> \u001b[0m\u001b[38;2;235;219;178msind\u001b[0m(\u001b[0m\u001b[38;2;211;134;155m45\u001b[0m\u001b[38;2;235;219;178m)\u001b[0m\n",
       "  \u001b[0m0.7071067811865476\n",
       "  \n",
       "  \u001b[31;1mjulia> \u001b[0m\u001b[38;2;235;219;178msinpi\u001b[0m(\u001b[0m\u001b[38;2;211;134;155m1\u001b[0m\u001b[38;2;235;219;178m/\u001b[0m\u001b[38;2;211;134;155m4\u001b[0m\u001b[38;2;235;219;178m)\u001b[0m\n",
       "  \u001b[0m0.7071067811865476\n",
       "  \n",
       "  \u001b[31;1mjulia> \u001b[0m\u001b[38;2;235;219;178mround\u001b[0m\u001b[38;2;235;219;178m.\u001b[0m(\u001b[0m\u001b[38;2;235;219;178msincos\u001b[0m(\u001b[0m\u001b[38;2;235;219;178mpi\u001b[0m\u001b[38;2;235;219;178m/\u001b[0m\u001b[38;2;211;134;155m6\u001b[0m\u001b[38;2;235;219;178m)\u001b[0m\u001b[38;2;235;219;178m,\u001b[0m \u001b[0m\u001b[38;2;235;219;178mdigits\u001b[0m\u001b[38;2;235;219;178m=\u001b[0m\u001b[38;2;211;134;155m3\u001b[0m\u001b[38;2;235;219;178m)\u001b[0m\n",
       "  \u001b[0m(0.5, 0.866)\n",
       "  \n",
       "  \u001b[31;1mjulia> \u001b[0m\u001b[38;2;235;219;178mround\u001b[0m(\u001b[0m\u001b[38;2;235;219;178mcis\u001b[0m(\u001b[0m\u001b[38;2;235;219;178mpi\u001b[0m\u001b[38;2;235;219;178m/\u001b[0m\u001b[38;2;211;134;155m6\u001b[0m\u001b[38;2;235;219;178m)\u001b[0m\u001b[38;2;235;219;178m,\u001b[0m \u001b[0m\u001b[38;2;235;219;178mdigits\u001b[0m\u001b[38;2;235;219;178m=\u001b[0m\u001b[38;2;211;134;155m3\u001b[0m\u001b[38;2;235;219;178m)\u001b[0m\n",
       "  \u001b[0m0.866 + 0.5im\n",
       "  \n",
       "  \u001b[31;1mjulia> \u001b[0m\u001b[38;2;235;219;178mround\u001b[0m(\u001b[0m\u001b[38;2;235;219;178mexp\u001b[0m(\u001b[0m\u001b[38;2;235;219;178mim\u001b[0m\u001b[38;2;235;219;178m*\u001b[0m\u001b[38;2;235;219;178mpi\u001b[0m\u001b[38;2;235;219;178m/\u001b[0m\u001b[38;2;211;134;155m6\u001b[0m\u001b[38;2;235;219;178m)\u001b[0m\u001b[38;2;235;219;178m,\u001b[0m \u001b[0m\u001b[38;2;235;219;178mdigits\u001b[0m\u001b[38;2;235;219;178m=\u001b[0m\u001b[38;2;211;134;155m3\u001b[0m\u001b[38;2;235;219;178m)\u001b[0m\n",
       "  \u001b[0m0.866 + 0.5im\n",
       "\n",
       "\n",
       "  ────────────────────────────────────────────────────────────────────────────\n",
       "\n",
       "  \u001b[38;2;235;219;178msin\u001b[0m(\u001b[0m\u001b[38;2;235;219;178mA\u001b[0m\u001b[38;2;235;219;178m::\u001b[0m\u001b[38;2;235;219;178mAbstractMatrix\u001b[0m\u001b[38;2;235;219;178m)\u001b[0m\n",
       "\n",
       "\n",
       "  Compute the matrix sine of a square matrix \u001b[36mA\u001b[39m.\n",
       "\n",
       "  If \u001b[36mA\u001b[39m is symmetric or Hermitian, its eigendecomposition (\u001b[36meigen\u001b[39m) is used to\n",
       "  compute the sine. Otherwise, the sine is determined by calling \u001b[36mexp\u001b[39m.\n",
       "\n",
       "\u001b[1m  Examples\u001b[22m\n",
       "\u001b[1m  ≡≡≡≡≡≡≡≡≡≡\u001b[22m\n",
       "\n",
       "  \u001b[31;1mjulia> \u001b[0m\u001b[38;2;235;219;178msin\u001b[0m(\u001b[0m\u001b[38;2;235;219;178mfill\u001b[0m(\u001b[0m\u001b[38;2;211;134;155m1.0\u001b[0m\u001b[38;2;235;219;178m,\u001b[0m \u001b[0m(\u001b[0m\u001b[38;2;211;134;155m2\u001b[0m\u001b[38;2;235;219;178m,\u001b[0m\u001b[38;2;211;134;155m2\u001b[0m\u001b[38;2;235;219;178m)\u001b[0m\u001b[38;2;235;219;178m)\u001b[0m\u001b[38;2;235;219;178m)\u001b[0m\n",
       "  \u001b[0m2×2 Matrix{Float64}:\n",
       "   0.454649  0.454649\n",
       "   0.454649  0.454649\n"
      ]
     },
     "execution_count": 3,
     "metadata": {},
     "output_type": "execute_result"
    }
   ],
   "source": [
    "?sin #help mode"
   ]
  },
  {
   "cell_type": "code",
   "execution_count": 4,
   "id": "77176934",
   "metadata": {
    "slideshow": {
     "slide_type": "subslide"
    }
   },
   "outputs": [
    {
     "name": "stdout",
     "output_type": "stream",
     "text": [
      "\"\u001b[36mx₀²\u001b[39m\" can be typed by \u001b[36mx\\_0<tab>\\^2<tab>\u001b[39m\n",
      "\n",
      "search:\n",
      "\n",
      "Couldn't find \u001b[36mx₀²\u001b[39m\n",
      "Perhaps you meant xor, axes, exit, exp, exp2, Expr, max, In, Out, Pkg or ans\n"
     ]
    },
    {
     "data": {
      "text/latex": [
       "No documentation found.\n",
       "\n",
       "Binding \\texttt{x₀²} does not exist.\n",
       "\n"
      ],
      "text/markdown": [
       "No documentation found.\n",
       "\n",
       "Binding `x₀²` does not exist.\n"
      ],
      "text/plain": [
       "  No documentation found.\n",
       "\n",
       "  Binding \u001b[36mx₀²\u001b[39m does not exist."
      ]
     },
     "execution_count": 4,
     "metadata": {},
     "output_type": "execute_result"
    }
   ],
   "source": [
    "?x₀² # also useful for unicode reverse lookup"
   ]
  },
  {
   "cell_type": "code",
   "execution_count": 5,
   "id": "bdf435bc-946a-4fd6-bd39-9dcdaf40fc03",
   "metadata": {
    "slideshow": {
     "slide_type": "subslide"
    }
   },
   "outputs": [],
   "source": [
    "import UnROOT # import\n",
    "using UnROOT: LazyTree # import and add select items into namespace\n",
    "using UnROOT # import and accept all exported items into namespace"
   ]
  },
  {
   "cell_type": "code",
   "execution_count": 6,
   "id": "319c54fe",
   "metadata": {
    "slideshow": {
     "slide_type": "subslide"
    }
   },
   "outputs": [
    {
     "data": {
      "text/html": [
       "*(x::<b>T</b>, y::<b>T</b>)<i> where T<:Union{Float16, Float32, Float64}</i> in Base at <a href=\"https://github.com/JuliaLang/julia/tree/e4ee485e90961018b7e53ce14b8b99335953e176/base/float.jl#L410\" target=\"_blank\">float.jl:410</a>"
      ],
      "text/plain": [
       "*(\u001b[90mx\u001b[39m::\u001b[1mT\u001b[22m, \u001b[90my\u001b[39m::\u001b[1mT\u001b[22m) where T<:Union{Float16, Float32, Float64}\n",
       "\u001b[90m     @\u001b[39m \u001b[90mBase\u001b[39m \u001b[90m\u001b[4mfloat.jl:410\u001b[24m\u001b[39m"
      ]
     },
     "execution_count": 6,
     "metadata": {},
     "output_type": "execute_result"
    }
   ],
   "source": [
    "@which 2.0 * 3.0"
   ]
  },
  {
   "cell_type": "code",
   "execution_count": 7,
   "id": "b5dc9d56",
   "metadata": {
    "slideshow": {
     "slide_type": "fragment"
    }
   },
   "outputs": [
    {
     "data": {
      "text/html": [
       "*(A::<b>Number</b>, B::<b>AbstractArray</b>) in Base at <a href=\"https://github.com/JuliaLang/julia/tree/e4ee485e90961018b7e53ce14b8b99335953e176/base/arraymath.jl#L21\" target=\"_blank\">arraymath.jl:21</a>"
      ],
      "text/plain": [
       "*(\u001b[90mA\u001b[39m::\u001b[1mNumber\u001b[22m, \u001b[90mB\u001b[39m::\u001b[1mAbstractArray\u001b[22m)\n",
       "\u001b[90m     @\u001b[39m \u001b[90mBase\u001b[39m \u001b[90m\u001b[4marraymath.jl:21\u001b[24m\u001b[39m"
      ]
     },
     "execution_count": 7,
     "metadata": {},
     "output_type": "execute_result"
    }
   ],
   "source": [
    "@which 3.0 * rand(2) # scale a vector"
   ]
  },
  {
   "cell_type": "markdown",
   "id": "0f82a3c9",
   "metadata": {
    "slideshow": {
     "slide_type": "slide"
    }
   },
   "source": [
    "## Variables, Basic types, and Control flow\n",
    "\n",
    "Many things already work as you'd expect, from Python experience maybe, just try it:"
   ]
  },
  {
   "cell_type": "code",
   "execution_count": 8,
   "id": "0db4090d",
   "metadata": {
    "slideshow": {
     "slide_type": "fragment"
    }
   },
   "outputs": [
    {
     "data": {
      "text/plain": [
       "Int64"
      ]
     },
     "execution_count": 8,
     "metadata": {},
     "output_type": "execute_result"
    }
   ],
   "source": [
    "x = 1\n",
    "typeof(x)"
   ]
  },
  {
   "cell_type": "code",
   "execution_count": 9,
   "id": "2003641b",
   "metadata": {
    "scrolled": true,
    "slideshow": {
     "slide_type": "fragment"
    }
   },
   "outputs": [
    {
     "name": "stdout",
     "output_type": "stream",
     "text": [
      "y = 0.2, z = 4.0\n"
     ]
    },
    {
     "data": {
      "text/plain": [
       "(Float64, Float64)"
      ]
     },
     "execution_count": 9,
     "metadata": {},
     "output_type": "execute_result"
    }
   ],
   "source": [
    "# automatically \"promoted\" to Float64\n",
    "y = x/5\n",
    "z = x + 3.0\n",
    "println(\"y = $y, z = $z\")\n",
    "typeof(y), typeof(z)"
   ]
  },
  {
   "cell_type": "markdown",
   "id": "ec975789",
   "metadata": {
    "slideshow": {
     "slide_type": "slide"
    }
   },
   "source": [
    "Julia has built-in N-dimensional array type, `Vector` and `Matrix` are special cases where `N = 1` and `2` respectively."
   ]
  },
  {
   "cell_type": "code",
   "execution_count": 10,
   "id": "12a85570",
   "metadata": {
    "scrolled": true,
    "slideshow": {
     "slide_type": "fragment"
    }
   },
   "outputs": [
    {
     "data": {
      "text/plain": [
       "4-element Vector{Int64}:\n",
       " 5\n",
       " 6\n",
       " 7\n",
       " 8"
      ]
     },
     "execution_count": 10,
     "metadata": {},
     "output_type": "execute_result"
    }
   ],
   "source": [
    "xs = [5, 6, 7, 8] # think of C++ std::vector"
   ]
  },
  {
   "cell_type": "code",
   "execution_count": 11,
   "id": "f40060a1",
   "metadata": {
    "slideshow": {
     "slide_type": "fragment"
    }
   },
   "outputs": [
    {
     "data": {
      "text/plain": [
       "true"
      ]
     },
     "execution_count": 11,
     "metadata": {},
     "output_type": "execute_result"
    }
   ],
   "source": [
    "typeof(xs) == Array{Int64, 1} # Vector is 1D special case of Array"
   ]
  },
  {
   "cell_type": "code",
   "execution_count": 12,
   "id": "db3fb900",
   "metadata": {
    "slideshow": {
     "slide_type": "fragment"
    }
   },
   "outputs": [
    {
     "data": {
      "text/plain": [
       "2×2 Matrix{Float64}:\n",
       " 0.555202  0.827906\n",
       " 0.965058  0.331684"
      ]
     },
     "execution_count": 12,
     "metadata": {},
     "output_type": "execute_result"
    }
   ],
   "source": [
    "rand(2, 2) # Matrix is 2D special case "
   ]
  },
  {
   "cell_type": "code",
   "execution_count": 13,
   "id": "b6639491",
   "metadata": {},
   "outputs": [
    {
     "data": {
      "text/plain": [
       "2×2×3 Array{Int64, 3}:\n",
       "[:, :, 1] =\n",
       " 1  2\n",
       " 3  4\n",
       "\n",
       "[:, :, 2] =\n",
       " 5  6\n",
       " 7  8\n",
       "\n",
       "[:, :, 3] =\n",
       " 11  22\n",
       " 33  44"
      ]
     },
     "execution_count": 13,
     "metadata": {},
     "output_type": "execute_result"
    }
   ],
   "source": [
    "# this is a literal 3D tensor\n",
    "[\n",
    "    1 2\n",
    "    3 4 ;;;\n",
    "    5 6\n",
    "    7 8 ;;;\n",
    "    11 22\n",
    "    33 44\n",
    "]"
   ]
  },
  {
   "cell_type": "markdown",
   "id": "3c21d4b5",
   "metadata": {
    "slideshow": {
     "slide_type": "subslide"
    }
   },
   "source": [
    "Indexing and slicing arrays are intuitive:"
   ]
  },
  {
   "cell_type": "code",
   "execution_count": 14,
   "id": "c9ae0384",
   "metadata": {
    "slideshow": {
     "slide_type": "fragment"
    }
   },
   "outputs": [
    {
     "data": {
      "text/plain": [
       "3-element Vector{Int64}:\n",
       " 5\n",
       " 6\n",
       " 7"
      ]
     },
     "execution_count": 14,
     "metadata": {},
     "output_type": "execute_result"
    }
   ],
   "source": [
    "xs = [5, 6, 7, 8]\n",
    "xs[begin : end-1]"
   ]
  },
  {
   "cell_type": "code",
   "execution_count": 15,
   "id": "2810cbc9",
   "metadata": {},
   "outputs": [
    {
     "data": {
      "text/plain": [
       "6"
      ]
     },
     "execution_count": 15,
     "metadata": {},
     "output_type": "execute_result"
    }
   ],
   "source": [
    "xs[end÷2]# you can do any operation with `begin` and `end` as if they are variable"
   ]
  },
  {
   "cell_type": "markdown",
   "id": "47ff5613",
   "metadata": {
    "slideshow": {
     "slide_type": "fragment"
    }
   },
   "source": [
    "To apply a function in \"vectorized style\", use broadcast `.`:"
   ]
  },
  {
   "cell_type": "code",
   "execution_count": 16,
   "id": "afb631cc",
   "metadata": {
    "slideshow": {
     "slide_type": "fragment"
    }
   },
   "outputs": [
    {
     "data": {
      "text/plain": [
       "4-element Vector{Int64}:\n",
       " 15\n",
       " 16\n",
       " 17\n",
       " 18"
      ]
     },
     "execution_count": 16,
     "metadata": {},
     "output_type": "execute_result"
    }
   ],
   "source": [
    "xs .+ 10 # \"this looks like vectorized style!\""
   ]
  },
  {
   "cell_type": "markdown",
   "id": "d2de379e",
   "metadata": {
    "slideshow": {
     "slide_type": "subslide"
    }
   },
   "source": [
    "To \"view\" into an array without copying underlying data, use `@view` macro\n",
    "\n",
    "(this is opposite of Numpy, which by default never makes copy)"
   ]
  },
  {
   "cell_type": "code",
   "execution_count": 17,
   "id": "fcce8427",
   "metadata": {
    "slideshow": {
     "slide_type": "fragment"
    }
   },
   "outputs": [
    {
     "data": {
      "text/plain": [
       "3-element view(::Vector{Int64}, 1:3) with eltype Int64:\n",
       " 5\n",
       " 6\n",
       " 7"
      ]
     },
     "execution_count": 17,
     "metadata": {},
     "output_type": "execute_result"
    }
   ],
   "source": [
    "@view xs[begin:end-1] # modifying a `view` will change original array's data"
   ]
  },
  {
   "cell_type": "markdown",
   "id": "ea8d99cf",
   "metadata": {
    "slideshow": {
     "slide_type": "slide"
    }
   },
   "source": [
    "Control flows all look alike™ (no indentation, yes `end`):\n",
    "\n",
    "```julia\n",
    "for evt in MyTTree\n",
    "    process_event(evt)\n",
    "end\n",
    "```\n",
    "---\n",
    "```julia\n",
    "while true\n",
    "    ...\n",
    "    cond && break\n",
    "end\n",
    "```\n",
    "---\n",
    "```julia\n",
    "if cond\n",
    "    ...\n",
    "else\n",
    "    ...\n",
    "end\n",
    "```"
   ]
  },
  {
   "cell_type": "markdown",
   "id": "97aa7cd7",
   "metadata": {
    "slideshow": {
     "slide_type": "slide"
    }
   },
   "source": [
    "## Functions\n",
    "Define a function in-line or multi-line."
   ]
  },
  {
   "cell_type": "code",
   "execution_count": 18,
   "id": "55552c1e",
   "metadata": {
    "slideshow": {
     "slide_type": "fragment"
    }
   },
   "outputs": [],
   "source": [
    "# these two are semantically equivalent\n",
    "f1(x) = x^2\n",
    "\n",
    "function f2(x)\n",
    "    return x^2\n",
    "end;"
   ]
  },
  {
   "cell_type": "markdown",
   "id": "c09444ab",
   "metadata": {},
   "source": [
    "### Higher-order functions are common\n",
    "One can have higher-order function as high as one wants, passing functions into and return them from other functions are natural pattern:"
   ]
  },
  {
   "cell_type": "code",
   "execution_count": 19,
   "id": "b2777953",
   "metadata": {
    "slideshow": {
     "slide_type": "fragment"
    }
   },
   "outputs": [
    {
     "data": {
      "text/plain": [
       "2-element Vector{Int64}:\n",
       " 2\n",
       " 4"
      ]
     },
     "execution_count": 19,
     "metadata": {},
     "output_type": "execute_result"
    }
   ],
   "source": [
    "filter(iseven, 1:4)"
   ]
  },
  {
   "cell_type": "code",
   "execution_count": 20,
   "id": "89b4cb74",
   "metadata": {
    "slideshow": {
     "slide_type": "fragment"
    }
   },
   "outputs": [
    {
     "data": {
      "text/plain": [
       "4-element Vector{Int64}:\n",
       "  1\n",
       " -2\n",
       "  3\n",
       " -4"
      ]
     },
     "execution_count": 20,
     "metadata": {},
     "output_type": "execute_result"
    }
   ],
   "source": [
    "sort([-2, 3, 1, -4]; by = x -> x^2) # example of an anonymous function"
   ]
  },
  {
   "cell_type": "markdown",
   "id": "d61324a1",
   "metadata": {
    "slideshow": {
     "slide_type": "slide"
    }
   },
   "source": [
    "## Types and Multi-dispatch\n",
    "\n",
    "Forget about class-based OOP for a second, embrace two terms for now: concrete type, and abstract type.\n",
    "\n",
    "Types has a hierarchical structure, namely types have super type:"
   ]
  },
  {
   "cell_type": "code",
   "execution_count": 21,
   "id": "4eba1f84",
   "metadata": {
    "slideshow": {
     "slide_type": "fragment"
    }
   },
   "outputs": [
    {
     "data": {
      "text/plain": [
       "(true, true, true)"
      ]
     },
     "execution_count": 21,
     "metadata": {},
     "output_type": "execute_result"
    }
   ],
   "source": [
    "# <: reads \"is subtype of\"\n",
    "Float64 <: AbstractFloat, Float64 <: Real, Float64 <: Number"
   ]
  },
  {
   "cell_type": "code",
   "execution_count": 22,
   "id": "3c476945",
   "metadata": {},
   "outputs": [
    {
     "data": {
      "text/plain": [
       "true"
      ]
     },
     "execution_count": 22,
     "metadata": {},
     "output_type": "execute_result"
    }
   ],
   "source": [
    "Float64 <: AbstractFloat <: Real <: Number"
   ]
  },
  {
   "cell_type": "code",
   "execution_count": 23,
   "id": "4ca58f28",
   "metadata": {
    "slideshow": {
     "slide_type": "fragment"
    }
   },
   "outputs": [
    {
     "data": {
      "text/plain": [
       "Real"
      ]
     },
     "execution_count": 23,
     "metadata": {},
     "output_type": "execute_result"
    }
   ],
   "source": [
    "supertype(AbstractFloat)"
   ]
  },
  {
   "cell_type": "code",
   "execution_count": 24,
   "id": "5ed71d68",
   "metadata": {
    "scrolled": true,
    "slideshow": {
     "slide_type": "fragment"
    }
   },
   "outputs": [
    {
     "data": {
      "text/plain": [
       "4-element Vector{Any}:\n",
       " AbstractFloat\n",
       " AbstractIrrational\n",
       " Integer\n",
       " Rational"
      ]
     },
     "execution_count": 24,
     "metadata": {},
     "output_type": "execute_result"
    }
   ],
   "source": [
    "subtypes(Real)"
   ]
  },
  {
   "cell_type": "markdown",
   "id": "f0355536",
   "metadata": {},
   "source": [
    "### Rules for types\n",
    "1. Abstract type can have many sub types, abstract or concrete, only single inheretance.\n",
    "2. It's not possible to have instance (i.e \"object\") of an abstract type.\n",
    "3. It's not possible to subtype a concrete type further.\n",
    "\n",
    "(For C++ gurus in the room, point 3 is analogous to the `final` identifier for class, it helps making devirtualization of method table possible, thus increases performance.)"
   ]
  },
  {
   "cell_type": "markdown",
   "id": "00248d76",
   "metadata": {
    "slideshow": {
     "slide_type": "subslide"
    }
   },
   "source": [
    "## Source of performance: specialized compilation\n",
    "\n",
    "**Almost truism: the more type information you can give to compiler, the better it can (at least should) compile to performant machine code.**"
   ]
  },
  {
   "cell_type": "markdown",
   "id": "e59d31e0",
   "metadata": {
    "slideshow": {
     "slide_type": "slide"
    }
   },
   "source": [
    "Back to the multiple dispatch, you might ask: isn't Julia a dynamic language? Doesn't this multi-dispatch trickry slow things down becuase it sounds like Julia is doing this:\n",
    "```python\n",
    "def f(x):\n",
    "    _T = type(x)\n",
    "    if _T == A:\n",
    "        do1(x)\n",
    "    elif _T == B:\n",
    "        do2(x)\n",
    "```\n",
    "\n",
    "The answer is no: albeit Just-In-Time, everything you run is still fully **compiled**. Here's an effective mental model:\n",
    "\n",
    "When you call a function, compiler will compile a version of your function based on the argument types before any execution happens. And the compiled program is cached, such that it will be fast as native code the next time you call it."
   ]
  },
  {
   "cell_type": "markdown",
   "id": "409a34d7",
   "metadata": {
    "slideshow": {
     "slide_type": "subslide"
    }
   },
   "source": [
    "This is a good place to introduce some inspection/debugging tools which also helps showing Julia's compiler is capable of the same optimization common in fully static language such as C/C++.\n",
    "\n",
    "Imagine you have the following, fullt generic looking function:"
   ]
  },
  {
   "cell_type": "code",
   "execution_count": 25,
   "id": "08cc6757",
   "metadata": {
    "slideshow": {
     "slide_type": "fragment"
    }
   },
   "outputs": [
    {
     "data": {
      "text/plain": [
       "mysum (generic function with 1 method)"
      ]
     },
     "execution_count": 25,
     "metadata": {},
     "output_type": "execute_result"
    }
   ],
   "source": [
    "# we could make it slightly less flexible vec::Array{T}\n",
    "# and res = zero(T)\n",
    "function mysum(vec)\n",
    "    res = zero(eltype(vec))\n",
    "    \n",
    "    for e in vec\n",
    "        res += e\n",
    "    end\n",
    "    return res\n",
    "end"
   ]
  },
  {
   "cell_type": "code",
   "execution_count": 26,
   "id": "407c0bf6",
   "metadata": {
    "slideshow": {
     "slide_type": "subslide"
    }
   },
   "outputs": [],
   "source": [
    "using MethodAnalysis"
   ]
  },
  {
   "cell_type": "code",
   "execution_count": 27,
   "id": "2bc1dc1e",
   "metadata": {
    "slideshow": {
     "slide_type": "-"
    }
   },
   "outputs": [
    {
     "data": {
      "text/plain": [
       "Core.MethodInstance[]"
      ]
     },
     "execution_count": 27,
     "metadata": {},
     "output_type": "execute_result"
    }
   ],
   "source": [
    "methodinstances(mysum)"
   ]
  },
  {
   "cell_type": "code",
   "execution_count": 28,
   "id": "f6cf0bf6",
   "metadata": {},
   "outputs": [
    {
     "data": {
      "text/plain": [
       "6"
      ]
     },
     "execution_count": 28,
     "metadata": {},
     "output_type": "execute_result"
    }
   ],
   "source": [
    "mysum([1,2,3])"
   ]
  },
  {
   "cell_type": "code",
   "execution_count": 29,
   "id": "110598af",
   "metadata": {},
   "outputs": [
    {
     "data": {
      "text/plain": [
       "1-element Vector{Core.MethodInstance}:\n",
       " MethodInstance for mysum(::Vector{Int64})"
      ]
     },
     "execution_count": 29,
     "metadata": {},
     "output_type": "execute_result"
    }
   ],
   "source": [
    "methodinstances(mysum)"
   ]
  },
  {
   "cell_type": "code",
   "execution_count": 30,
   "id": "b83f97b2",
   "metadata": {},
   "outputs": [
    {
     "data": {
      "text/plain": [
       "2-element Vector{Core.MethodInstance}:\n",
       " MethodInstance for mysum(::Vector{Int64})\n",
       " MethodInstance for mysum(::Vector{Float64})"
      ]
     },
     "execution_count": 30,
     "metadata": {},
     "output_type": "execute_result"
    }
   ],
   "source": [
    "mysum([1.0, 2.0, 3.0])\n",
    "methodinstances(mysum)"
   ]
  },
  {
   "cell_type": "markdown",
   "id": "43d771ff",
   "metadata": {
    "slideshow": {
     "slide_type": "subslide"
    }
   },
   "source": [
    "Now let's see what kind of program comes out of Julia's compiler pipeline:"
   ]
  },
  {
   "cell_type": "code",
   "execution_count": 31,
   "id": "a46f2efb",
   "metadata": {
    "slideshow": {
     "slide_type": "-"
    }
   },
   "outputs": [
    {
     "name": "stdout",
     "output_type": "stream",
     "text": [
      "\u001b[90m;  @ In[25]:3 within `mysum`\u001b[39m\n",
      "\u001b[95mdefine\u001b[39m \u001b[36mi64\u001b[39m \u001b[93m@julia_mysum_2918\u001b[39m\u001b[33m(\u001b[39m\u001b[33m{\u001b[39m\u001b[33m}\u001b[39m\u001b[0m* \u001b[95mnoundef\u001b[39m \u001b[95mnonnull\u001b[39m \u001b[95malign\u001b[39m \u001b[33m16\u001b[39m \u001b[95mdereferenceable\u001b[39m\u001b[33m(\u001b[39m\u001b[33m40\u001b[39m\u001b[33m)\u001b[39m \u001b[0m%0\u001b[33m)\u001b[39m \u001b[0m#0 \u001b[33m{\u001b[39m\n",
      "\u001b[91mtop:\u001b[39m\n",
      "\u001b[90m;  @ In[25]:6 within `mysum`\u001b[39m\n",
      "\u001b[90m; ┌ @ array.jl:893 within `iterate` @ array.jl:893\u001b[39m\n",
      "\u001b[90m; │┌ @ essentials.jl:10 within `length`\u001b[39m\n",
      "    \u001b[0m%1 \u001b[0m= \u001b[96m\u001b[1mbitcast\u001b[22m\u001b[39m \u001b[33m{\u001b[39m\u001b[33m}\u001b[39m\u001b[0m* \u001b[0m%0 \u001b[95mto\u001b[39m \u001b[33m{\u001b[39m \u001b[36mi8\u001b[39m\u001b[0m*\u001b[0m, \u001b[36mi64\u001b[39m\u001b[0m, \u001b[36mi16\u001b[39m\u001b[0m, \u001b[36mi16\u001b[39m\u001b[0m, \u001b[36mi32\u001b[39m \u001b[33m}\u001b[39m\u001b[0m*\n",
      "    \u001b[0m%2 \u001b[0m= \u001b[96m\u001b[1mgetelementptr\u001b[22m\u001b[39m \u001b[95minbounds\u001b[39m \u001b[33m{\u001b[39m \u001b[36mi8\u001b[39m\u001b[0m*\u001b[0m, \u001b[36mi64\u001b[39m\u001b[0m, \u001b[36mi16\u001b[39m\u001b[0m, \u001b[36mi16\u001b[39m\u001b[0m, \u001b[36mi32\u001b[39m \u001b[33m}\u001b[39m\u001b[0m, \u001b[33m{\u001b[39m \u001b[36mi8\u001b[39m\u001b[0m*\u001b[0m, \u001b[36mi64\u001b[39m\u001b[0m, \u001b[36mi16\u001b[39m\u001b[0m, \u001b[36mi16\u001b[39m\u001b[0m, \u001b[36mi32\u001b[39m \u001b[33m}\u001b[39m\u001b[0m* \u001b[0m%1\u001b[0m, \u001b[36mi64\u001b[39m \u001b[33m0\u001b[39m\u001b[0m, \u001b[36mi32\u001b[39m \u001b[33m1\u001b[39m\n",
      "    \u001b[0m%3 \u001b[0m= \u001b[96m\u001b[1mload\u001b[22m\u001b[39m \u001b[36mi64\u001b[39m\u001b[0m, \u001b[36mi64\u001b[39m\u001b[0m* \u001b[0m%2\u001b[0m, \u001b[95malign\u001b[39m \u001b[33m8\u001b[39m\n",
      "\u001b[90m; │└\u001b[39m\n",
      "\u001b[90m; │┌ @ int.jl:494 within `<` @ int.jl:487\u001b[39m\n",
      "    \u001b[0m%.not \u001b[0m= \u001b[96m\u001b[1micmp\u001b[22m\u001b[39m \u001b[96m\u001b[1meq\u001b[22m\u001b[39m \u001b[36mi64\u001b[39m \u001b[0m%3\u001b[0m, \u001b[33m0\u001b[39m\n",
      "\u001b[90m; │└\u001b[39m\n",
      "   \u001b[96m\u001b[1mbr\u001b[22m\u001b[39m \u001b[36mi1\u001b[39m \u001b[0m%.not\u001b[0m, \u001b[36mlabel\u001b[39m \u001b[91m%L41\u001b[39m\u001b[0m, \u001b[36mlabel\u001b[39m \u001b[91m%L17\u001b[39m\n",
      "\n",
      "\u001b[91mL17:\u001b[39m                                              \u001b[90m; preds = %top\u001b[39m\n",
      "\u001b[90m; │┌ @ essentials.jl:13 within `getindex`\u001b[39m\n",
      "    \u001b[0m%4 \u001b[0m= \u001b[96m\u001b[1mbitcast\u001b[22m\u001b[39m \u001b[33m{\u001b[39m\u001b[33m}\u001b[39m\u001b[0m* \u001b[0m%0 \u001b[95mto\u001b[39m \u001b[36mi64\u001b[39m\u001b[0m**\n",
      "    \u001b[0m%5 \u001b[0m= \u001b[96m\u001b[1mload\u001b[22m\u001b[39m \u001b[36mi64\u001b[39m\u001b[0m*\u001b[0m, \u001b[36mi64\u001b[39m\u001b[0m** \u001b[0m%4\u001b[0m, \u001b[95malign\u001b[39m \u001b[33m8\u001b[39m\n",
      "    \u001b[0m%6 \u001b[0m= \u001b[96m\u001b[1mload\u001b[22m\u001b[39m \u001b[36mi64\u001b[39m\u001b[0m, \u001b[36mi64\u001b[39m\u001b[0m* \u001b[0m%5\u001b[0m, \u001b[95malign\u001b[39m \u001b[33m8\u001b[39m\n",
      "\u001b[90m; └└\u001b[39m\n",
      "\u001b[90m;  @ In[25]:8 within `mysum`\u001b[39m\n",
      "\u001b[90m; ┌ @ array.jl:893 within `iterate`\u001b[39m\n",
      "\u001b[90m; │┌ @ int.jl:494 within `<` @ int.jl:487\u001b[39m\n",
      "    \u001b[0m%.not1317.not \u001b[0m= \u001b[96m\u001b[1micmp\u001b[22m\u001b[39m \u001b[96m\u001b[1meq\u001b[22m\u001b[39m \u001b[36mi64\u001b[39m \u001b[0m%3\u001b[0m, \u001b[33m1\u001b[39m\n",
      "\u001b[90m; │└\u001b[39m\n",
      "   \u001b[96m\u001b[1mbr\u001b[22m\u001b[39m \u001b[36mi1\u001b[39m \u001b[0m%.not1317.not\u001b[0m, \u001b[36mlabel\u001b[39m \u001b[91m%L41\u001b[39m\u001b[0m, \u001b[36mlabel\u001b[39m \u001b[91m%L35.preheader\u001b[39m\n",
      "\n",
      "\u001b[91mL35.preheader:\u001b[39m                                    \u001b[90m; preds = %L17\u001b[39m\n",
      "   \u001b[0m%7 \u001b[0m= \u001b[96m\u001b[1madd\u001b[22m\u001b[39m \u001b[95mnsw\u001b[39m \u001b[36mi64\u001b[39m \u001b[0m%3\u001b[0m, \u001b[33m-1\u001b[39m\n",
      "   \u001b[0m%min.iters.check \u001b[0m= \u001b[96m\u001b[1micmp\u001b[22m\u001b[39m \u001b[96m\u001b[1mult\u001b[22m\u001b[39m \u001b[36mi64\u001b[39m \u001b[0m%7\u001b[0m, \u001b[33m16\u001b[39m\n",
      "   \u001b[96m\u001b[1mbr\u001b[22m\u001b[39m \u001b[36mi1\u001b[39m \u001b[0m%min.iters.check\u001b[0m, \u001b[36mlabel\u001b[39m \u001b[91m%scalar.ph\u001b[39m\u001b[0m, \u001b[36mlabel\u001b[39m \u001b[91m%vector.ph\u001b[39m\n",
      "\n",
      "\u001b[91mvector.ph:\u001b[39m                                        \u001b[90m; preds = %L35.preheader\u001b[39m\n",
      "   \u001b[0m%n.vec \u001b[0m= \u001b[96m\u001b[1mand\u001b[22m\u001b[39m \u001b[36mi64\u001b[39m \u001b[0m%7\u001b[0m, \u001b[33m-16\u001b[39m\n",
      "   \u001b[0m%ind.end \u001b[0m= \u001b[96m\u001b[1mor\u001b[22m\u001b[39m \u001b[36mi64\u001b[39m \u001b[0m%n.vec\u001b[0m, \u001b[33m1\u001b[39m\n",
      "   \u001b[0m%ind.end22 \u001b[0m= \u001b[96m\u001b[1mor\u001b[22m\u001b[39m \u001b[36mi64\u001b[39m \u001b[0m%n.vec\u001b[0m, \u001b[33m2\u001b[39m\n",
      "   \u001b[0m%8 \u001b[0m= \u001b[96m\u001b[1minsertelement\u001b[22m\u001b[39m \u001b[33m<\u001b[39m\u001b[33m4\u001b[39m \u001b[0mx \u001b[36mi64\u001b[39m\u001b[33m>\u001b[39m \u001b[33m<\u001b[39m\u001b[36mi64\u001b[39m \u001b[95mpoison\u001b[39m\u001b[0m, \u001b[36mi64\u001b[39m \u001b[33m0\u001b[39m\u001b[0m, \u001b[36mi64\u001b[39m \u001b[33m0\u001b[39m\u001b[0m, \u001b[36mi64\u001b[39m \u001b[33m0\u001b[39m\u001b[33m>\u001b[39m\u001b[0m, \u001b[36mi64\u001b[39m \u001b[0m%6\u001b[0m, \u001b[36mi64\u001b[39m \u001b[33m0\u001b[39m\n",
      "   \u001b[96m\u001b[1mbr\u001b[22m\u001b[39m \u001b[36mlabel\u001b[39m \u001b[91m%vector.body\u001b[39m\n",
      "\n",
      "\u001b[91mvector.body:\u001b[39m                                      \u001b[90m; preds = %vector.body, %vector.ph\u001b[39m\n",
      "   \u001b[0m%index \u001b[0m= \u001b[96m\u001b[1mphi\u001b[22m\u001b[39m \u001b[36mi64\u001b[39m \u001b[33m[\u001b[39m \u001b[33m0\u001b[39m\u001b[0m, \u001b[91m%vector.ph\u001b[39m \u001b[33m]\u001b[39m\u001b[0m, \u001b[33m[\u001b[39m \u001b[0m%index.next\u001b[0m, \u001b[91m%vector.body\u001b[39m \u001b[33m]\u001b[39m\n",
      "   \u001b[0m%vec.phi \u001b[0m= \u001b[96m\u001b[1mphi\u001b[22m\u001b[39m \u001b[33m<\u001b[39m\u001b[33m4\u001b[39m \u001b[0mx \u001b[36mi64\u001b[39m\u001b[33m>\u001b[39m \u001b[33m[\u001b[39m \u001b[0m%8\u001b[0m, \u001b[91m%vector.ph\u001b[39m \u001b[33m]\u001b[39m\u001b[0m, \u001b[33m[\u001b[39m \u001b[0m%17\u001b[0m, \u001b[91m%vector.body\u001b[39m \u001b[33m]\u001b[39m\n",
      "   \u001b[0m%vec.phi23 \u001b[0m= \u001b[96m\u001b[1mphi\u001b[22m\u001b[39m \u001b[33m<\u001b[39m\u001b[33m4\u001b[39m \u001b[0mx \u001b[36mi64\u001b[39m\u001b[33m>\u001b[39m \u001b[33m[\u001b[39m \u001b[95mzeroinitializer\u001b[39m\u001b[0m, \u001b[91m%vector.ph\u001b[39m \u001b[33m]\u001b[39m\u001b[0m, \u001b[33m[\u001b[39m \u001b[0m%18\u001b[0m, \u001b[91m%vector.body\u001b[39m \u001b[33m]\u001b[39m\n",
      "   \u001b[0m%vec.phi24 \u001b[0m= \u001b[96m\u001b[1mphi\u001b[22m\u001b[39m \u001b[33m<\u001b[39m\u001b[33m4\u001b[39m \u001b[0mx \u001b[36mi64\u001b[39m\u001b[33m>\u001b[39m \u001b[33m[\u001b[39m \u001b[95mzeroinitializer\u001b[39m\u001b[0m, \u001b[91m%vector.ph\u001b[39m \u001b[33m]\u001b[39m\u001b[0m, \u001b[33m[\u001b[39m \u001b[0m%19\u001b[0m, \u001b[91m%vector.body\u001b[39m \u001b[33m]\u001b[39m\n",
      "   \u001b[0m%vec.phi25 \u001b[0m= \u001b[96m\u001b[1mphi\u001b[22m\u001b[39m \u001b[33m<\u001b[39m\u001b[33m4\u001b[39m \u001b[0mx \u001b[36mi64\u001b[39m\u001b[33m>\u001b[39m \u001b[33m[\u001b[39m \u001b[95mzeroinitializer\u001b[39m\u001b[0m, \u001b[91m%vector.ph\u001b[39m \u001b[33m]\u001b[39m\u001b[0m, \u001b[33m[\u001b[39m \u001b[0m%20\u001b[0m, \u001b[91m%vector.body\u001b[39m \u001b[33m]\u001b[39m\n",
      "   \u001b[0m%offset.idx \u001b[0m= \u001b[96m\u001b[1mor\u001b[22m\u001b[39m \u001b[36mi64\u001b[39m \u001b[0m%index\u001b[0m, \u001b[33m1\u001b[39m\n",
      "\u001b[90m; │┌ @ essentials.jl:13 within `getindex`\u001b[39m\n",
      "    \u001b[0m%9 \u001b[0m= \u001b[96m\u001b[1mgetelementptr\u001b[22m\u001b[39m \u001b[95minbounds\u001b[39m \u001b[36mi64\u001b[39m\u001b[0m, \u001b[36mi64\u001b[39m\u001b[0m* \u001b[0m%5\u001b[0m, \u001b[36mi64\u001b[39m \u001b[0m%offset.idx\n",
      "    \u001b[0m%10 \u001b[0m= \u001b[96m\u001b[1mbitcast\u001b[22m\u001b[39m \u001b[36mi64\u001b[39m\u001b[0m* \u001b[0m%9 \u001b[95mto\u001b[39m \u001b[33m<\u001b[39m\u001b[33m4\u001b[39m \u001b[0mx \u001b[36mi64\u001b[39m\u001b[33m>\u001b[39m\u001b[0m*\n",
      "    \u001b[0m%wide.load \u001b[0m= \u001b[96m\u001b[1mload\u001b[22m\u001b[39m \u001b[33m<\u001b[39m\u001b[33m4\u001b[39m \u001b[0mx \u001b[36mi64\u001b[39m\u001b[33m>\u001b[39m\u001b[0m, \u001b[33m<\u001b[39m\u001b[33m4\u001b[39m \u001b[0mx \u001b[36mi64\u001b[39m\u001b[33m>\u001b[39m\u001b[0m* \u001b[0m%10\u001b[0m, \u001b[95malign\u001b[39m \u001b[33m8\u001b[39m\n",
      "    \u001b[0m%11 \u001b[0m= \u001b[96m\u001b[1mgetelementptr\u001b[22m\u001b[39m \u001b[95minbounds\u001b[39m \u001b[36mi64\u001b[39m\u001b[0m, \u001b[36mi64\u001b[39m\u001b[0m* \u001b[0m%9\u001b[0m, \u001b[36mi64\u001b[39m \u001b[33m4\u001b[39m\n",
      "    \u001b[0m%12 \u001b[0m= \u001b[96m\u001b[1mbitcast\u001b[22m\u001b[39m \u001b[36mi64\u001b[39m\u001b[0m* \u001b[0m%11 \u001b[95mto\u001b[39m \u001b[33m<\u001b[39m\u001b[33m4\u001b[39m \u001b[0mx \u001b[36mi64\u001b[39m\u001b[33m>\u001b[39m\u001b[0m*\n",
      "    \u001b[0m%wide.load27 \u001b[0m= \u001b[96m\u001b[1mload\u001b[22m\u001b[39m \u001b[33m<\u001b[39m\u001b[33m4\u001b[39m \u001b[0mx \u001b[36mi64\u001b[39m\u001b[33m>\u001b[39m\u001b[0m, \u001b[33m<\u001b[39m\u001b[33m4\u001b[39m \u001b[0mx \u001b[36mi64\u001b[39m\u001b[33m>\u001b[39m\u001b[0m* \u001b[0m%12\u001b[0m, \u001b[95malign\u001b[39m \u001b[33m8\u001b[39m\n",
      "    \u001b[0m%13 \u001b[0m= \u001b[96m\u001b[1mgetelementptr\u001b[22m\u001b[39m \u001b[95minbounds\u001b[39m \u001b[36mi64\u001b[39m\u001b[0m, \u001b[36mi64\u001b[39m\u001b[0m* \u001b[0m%9\u001b[0m, \u001b[36mi64\u001b[39m \u001b[33m8\u001b[39m\n",
      "    \u001b[0m%14 \u001b[0m= \u001b[96m\u001b[1mbitcast\u001b[22m\u001b[39m \u001b[36mi64\u001b[39m\u001b[0m* \u001b[0m%13 \u001b[95mto\u001b[39m \u001b[33m<\u001b[39m\u001b[33m4\u001b[39m \u001b[0mx \u001b[36mi64\u001b[39m\u001b[33m>\u001b[39m\u001b[0m*\n",
      "    \u001b[0m%wide.load28 \u001b[0m= \u001b[96m\u001b[1mload\u001b[22m\u001b[39m \u001b[33m<\u001b[39m\u001b[33m4\u001b[39m \u001b[0mx \u001b[36mi64\u001b[39m\u001b[33m>\u001b[39m\u001b[0m, \u001b[33m<\u001b[39m\u001b[33m4\u001b[39m \u001b[0mx \u001b[36mi64\u001b[39m\u001b[33m>\u001b[39m\u001b[0m* \u001b[0m%14\u001b[0m, \u001b[95malign\u001b[39m \u001b[33m8\u001b[39m\n",
      "    \u001b[0m%15 \u001b[0m= \u001b[96m\u001b[1mgetelementptr\u001b[22m\u001b[39m \u001b[95minbounds\u001b[39m \u001b[36mi64\u001b[39m\u001b[0m, \u001b[36mi64\u001b[39m\u001b[0m* \u001b[0m%9\u001b[0m, \u001b[36mi64\u001b[39m \u001b[33m12\u001b[39m\n",
      "    \u001b[0m%16 \u001b[0m= \u001b[96m\u001b[1mbitcast\u001b[22m\u001b[39m \u001b[36mi64\u001b[39m\u001b[0m* \u001b[0m%15 \u001b[95mto\u001b[39m \u001b[33m<\u001b[39m\u001b[33m4\u001b[39m \u001b[0mx \u001b[36mi64\u001b[39m\u001b[33m>\u001b[39m\u001b[0m*\n",
      "    \u001b[0m%wide.load29 \u001b[0m= \u001b[96m\u001b[1mload\u001b[22m\u001b[39m \u001b[33m<\u001b[39m\u001b[33m4\u001b[39m \u001b[0mx \u001b[36mi64\u001b[39m\u001b[33m>\u001b[39m\u001b[0m, \u001b[33m<\u001b[39m\u001b[33m4\u001b[39m \u001b[0mx \u001b[36mi64\u001b[39m\u001b[33m>\u001b[39m\u001b[0m* \u001b[0m%16\u001b[0m, \u001b[95malign\u001b[39m \u001b[33m8\u001b[39m\n",
      "\u001b[90m; └└\u001b[39m\n",
      "\u001b[90m;  @ In[25]:7 within `mysum`\u001b[39m\n",
      "\u001b[90m; ┌ @ int.jl:87 within `+`\u001b[39m\n",
      "   \u001b[0m%17 \u001b[0m= \u001b[96m\u001b[1madd\u001b[22m\u001b[39m \u001b[33m<\u001b[39m\u001b[33m4\u001b[39m \u001b[0mx \u001b[36mi64\u001b[39m\u001b[33m>\u001b[39m \u001b[0m%vec.phi\u001b[0m, \u001b[0m%wide.load\n",
      "   \u001b[0m%18 \u001b[0m= \u001b[96m\u001b[1madd\u001b[22m\u001b[39m \u001b[33m<\u001b[39m\u001b[33m4\u001b[39m \u001b[0mx \u001b[36mi64\u001b[39m\u001b[33m>\u001b[39m \u001b[0m%vec.phi23\u001b[0m, \u001b[0m%wide.load27\n",
      "   \u001b[0m%19 \u001b[0m= \u001b[96m\u001b[1madd\u001b[22m\u001b[39m \u001b[33m<\u001b[39m\u001b[33m4\u001b[39m \u001b[0mx \u001b[36mi64\u001b[39m\u001b[33m>\u001b[39m \u001b[0m%vec.phi24\u001b[0m, \u001b[0m%wide.load28\n",
      "   \u001b[0m%20 \u001b[0m= \u001b[96m\u001b[1madd\u001b[22m\u001b[39m \u001b[33m<\u001b[39m\u001b[33m4\u001b[39m \u001b[0mx \u001b[36mi64\u001b[39m\u001b[33m>\u001b[39m \u001b[0m%vec.phi25\u001b[0m, \u001b[0m%wide.load29\n",
      "   \u001b[0m%index.next \u001b[0m= \u001b[96m\u001b[1madd\u001b[22m\u001b[39m \u001b[95mnuw\u001b[39m \u001b[36mi64\u001b[39m \u001b[0m%index\u001b[0m, \u001b[33m16\u001b[39m\n",
      "   \u001b[0m%21 \u001b[0m= \u001b[96m\u001b[1micmp\u001b[22m\u001b[39m \u001b[96m\u001b[1meq\u001b[22m\u001b[39m \u001b[36mi64\u001b[39m \u001b[0m%index.next\u001b[0m, \u001b[0m%n.vec\n",
      "   \u001b[96m\u001b[1mbr\u001b[22m\u001b[39m \u001b[36mi1\u001b[39m \u001b[0m%21\u001b[0m, \u001b[36mlabel\u001b[39m \u001b[91m%middle.block\u001b[39m\u001b[0m, \u001b[36mlabel\u001b[39m \u001b[91m%vector.body\u001b[39m\n",
      "\n",
      "\u001b[91mmiddle.block:\u001b[39m                                     \u001b[90m; preds = %vector.body\u001b[39m\n",
      "\u001b[90m; └\u001b[39m\n",
      "\u001b[90m;  @ In[25]:8 within `mysum`\u001b[39m\n",
      "\u001b[90m; ┌ @ array.jl:893 within `iterate`\u001b[39m\n",
      "   \u001b[0m%bin.rdx \u001b[0m= \u001b[96m\u001b[1madd\u001b[22m\u001b[39m \u001b[33m<\u001b[39m\u001b[33m4\u001b[39m \u001b[0mx \u001b[36mi64\u001b[39m\u001b[33m>\u001b[39m \u001b[0m%18\u001b[0m, \u001b[0m%17\n",
      "   \u001b[0m%bin.rdx30 \u001b[0m= \u001b[96m\u001b[1madd\u001b[22m\u001b[39m \u001b[33m<\u001b[39m\u001b[33m4\u001b[39m \u001b[0mx \u001b[36mi64\u001b[39m\u001b[33m>\u001b[39m \u001b[0m%19\u001b[0m, \u001b[0m%bin.rdx\n",
      "   \u001b[0m%bin.rdx31 \u001b[0m= \u001b[96m\u001b[1madd\u001b[22m\u001b[39m \u001b[33m<\u001b[39m\u001b[33m4\u001b[39m \u001b[0mx \u001b[36mi64\u001b[39m\u001b[33m>\u001b[39m \u001b[0m%20\u001b[0m, \u001b[0m%bin.rdx30\n",
      "   \u001b[0m%22 \u001b[0m= \u001b[96m\u001b[1mcall\u001b[22m\u001b[39m \u001b[36mi64\u001b[39m \u001b[93m@llvm.vector.reduce.add.v4i64\u001b[39m\u001b[33m(\u001b[39m\u001b[33m<\u001b[39m\u001b[33m4\u001b[39m \u001b[0mx \u001b[36mi64\u001b[39m\u001b[33m>\u001b[39m \u001b[0m%bin.rdx31\u001b[33m)\u001b[39m\n",
      "   \u001b[0m%cmp.n \u001b[0m= \u001b[96m\u001b[1micmp\u001b[22m\u001b[39m \u001b[96m\u001b[1meq\u001b[22m\u001b[39m \u001b[36mi64\u001b[39m \u001b[0m%7\u001b[0m, \u001b[0m%n.vec\n",
      "   \u001b[96m\u001b[1mbr\u001b[22m\u001b[39m \u001b[36mi1\u001b[39m \u001b[0m%cmp.n\u001b[0m, \u001b[36mlabel\u001b[39m \u001b[91m%L41\u001b[39m\u001b[0m, \u001b[36mlabel\u001b[39m \u001b[91m%scalar.ph\u001b[39m\n",
      "\n",
      "\u001b[91mscalar.ph:\u001b[39m                                        \u001b[90m; preds = %middle.block, %L35.preheader\u001b[39m\n",
      "   \u001b[0m%bc.resume.val \u001b[0m= \u001b[96m\u001b[1mphi\u001b[22m\u001b[39m \u001b[36mi64\u001b[39m \u001b[33m[\u001b[39m \u001b[0m%ind.end\u001b[0m, \u001b[91m%middle.block\u001b[39m \u001b[33m]\u001b[39m\u001b[0m, \u001b[33m[\u001b[39m \u001b[33m1\u001b[39m\u001b[0m, \u001b[91m%L35.preheader\u001b[39m \u001b[33m]\u001b[39m\n",
      "   \u001b[0m%bc.resume.val21 \u001b[0m= \u001b[96m\u001b[1mphi\u001b[22m\u001b[39m \u001b[36mi64\u001b[39m \u001b[33m[\u001b[39m \u001b[0m%ind.end22\u001b[0m, \u001b[91m%middle.block\u001b[39m \u001b[33m]\u001b[39m\u001b[0m, \u001b[33m[\u001b[39m \u001b[33m2\u001b[39m\u001b[0m, \u001b[91m%L35.preheader\u001b[39m \u001b[33m]\u001b[39m\n",
      "   \u001b[0m%bc.merge.rdx \u001b[0m= \u001b[96m\u001b[1mphi\u001b[22m\u001b[39m \u001b[36mi64\u001b[39m \u001b[33m[\u001b[39m \u001b[0m%22\u001b[0m, \u001b[91m%middle.block\u001b[39m \u001b[33m]\u001b[39m\u001b[0m, \u001b[33m[\u001b[39m \u001b[0m%6\u001b[0m, \u001b[91m%L35.preheader\u001b[39m \u001b[33m]\u001b[39m\n",
      "   \u001b[96m\u001b[1mbr\u001b[22m\u001b[39m \u001b[36mlabel\u001b[39m \u001b[91m%L35\u001b[39m\n",
      "\n",
      "\u001b[91mL35:\u001b[39m                                              \u001b[90m; preds = %L35, %scalar.ph\u001b[39m\n",
      "   \u001b[0m%23 \u001b[0m= \u001b[96m\u001b[1mphi\u001b[22m\u001b[39m \u001b[36mi64\u001b[39m \u001b[33m[\u001b[39m \u001b[0m%value_phi418\u001b[0m, \u001b[91m%L35\u001b[39m \u001b[33m]\u001b[39m\u001b[0m, \u001b[33m[\u001b[39m \u001b[0m%bc.resume.val\u001b[0m, \u001b[91m%scalar.ph\u001b[39m \u001b[33m]\u001b[39m\n",
      "   \u001b[0m%24 \u001b[0m= \u001b[96m\u001b[1mphi\u001b[22m\u001b[39m \u001b[36mi64\u001b[39m \u001b[33m[\u001b[39m \u001b[0m%28\u001b[0m, \u001b[91m%L35\u001b[39m \u001b[33m]\u001b[39m\u001b[0m, \u001b[33m[\u001b[39m \u001b[0m%bc.merge.rdx\u001b[0m, \u001b[91m%scalar.ph\u001b[39m \u001b[33m]\u001b[39m\n",
      "   \u001b[0m%value_phi418 \u001b[0m= \u001b[96m\u001b[1mphi\u001b[22m\u001b[39m \u001b[36mi64\u001b[39m \u001b[33m[\u001b[39m \u001b[0m%27\u001b[0m, \u001b[91m%L35\u001b[39m \u001b[33m]\u001b[39m\u001b[0m, \u001b[33m[\u001b[39m \u001b[0m%bc.resume.val21\u001b[0m, \u001b[91m%scalar.ph\u001b[39m \u001b[33m]\u001b[39m\n",
      "\u001b[90m; │┌ @ essentials.jl:13 within `getindex`\u001b[39m\n",
      "    \u001b[0m%25 \u001b[0m= \u001b[96m\u001b[1mgetelementptr\u001b[22m\u001b[39m \u001b[95minbounds\u001b[39m \u001b[36mi64\u001b[39m\u001b[0m, \u001b[36mi64\u001b[39m\u001b[0m* \u001b[0m%5\u001b[0m, \u001b[36mi64\u001b[39m \u001b[0m%23\n",
      "    \u001b[0m%26 \u001b[0m= \u001b[96m\u001b[1mload\u001b[22m\u001b[39m \u001b[36mi64\u001b[39m\u001b[0m, \u001b[36mi64\u001b[39m\u001b[0m* \u001b[0m%25\u001b[0m, \u001b[95malign\u001b[39m \u001b[33m8\u001b[39m\n",
      "\u001b[90m; │└\u001b[39m\n"
     ]
    },
    {
     "name": "stdout",
     "output_type": "stream",
     "text": [
      "\u001b[90m; │┌ @ int.jl:87 within `+`\u001b[39m\n",
      "    \u001b[0m%27 \u001b[0m= \u001b[96m\u001b[1madd\u001b[22m\u001b[39m \u001b[95mnuw\u001b[39m \u001b[95mnsw\u001b[39m \u001b[36mi64\u001b[39m \u001b[0m%value_phi418\u001b[0m, \u001b[33m1\u001b[39m\n",
      "\u001b[90m; └└\u001b[39m\n",
      "\u001b[90m;  @ In[25]:7 within `mysum`\u001b[39m\n",
      "\u001b[90m; ┌ @ int.jl:87 within `+`\u001b[39m\n",
      "   \u001b[0m%28 \u001b[0m= \u001b[96m\u001b[1madd\u001b[22m\u001b[39m \u001b[36mi64\u001b[39m \u001b[0m%24\u001b[0m, \u001b[0m%26\n",
      "\u001b[90m; └\u001b[39m\n",
      "\u001b[90m;  @ In[25]:8 within `mysum`\u001b[39m\n",
      "\u001b[90m; ┌ @ array.jl:893 within `iterate`\u001b[39m\n",
      "\u001b[90m; │┌ @ int.jl:494 within `<` @ int.jl:487\u001b[39m\n",
      "    \u001b[0m%exitcond.not \u001b[0m= \u001b[96m\u001b[1micmp\u001b[22m\u001b[39m \u001b[96m\u001b[1meq\u001b[22m\u001b[39m \u001b[36mi64\u001b[39m \u001b[0m%value_phi418\u001b[0m, \u001b[0m%3\n",
      "\u001b[90m; │└\u001b[39m\n",
      "   \u001b[96m\u001b[1mbr\u001b[22m\u001b[39m \u001b[36mi1\u001b[39m \u001b[0m%exitcond.not\u001b[0m, \u001b[36mlabel\u001b[39m \u001b[91m%L41\u001b[39m\u001b[0m, \u001b[36mlabel\u001b[39m \u001b[91m%L35\u001b[39m\n",
      "\n",
      "\u001b[91mL41:\u001b[39m                                              \u001b[90m; preds = %L35, %middle.block, %L17, %top\u001b[39m\n",
      "   \u001b[0m%value_phi9 \u001b[0m= \u001b[96m\u001b[1mphi\u001b[22m\u001b[39m \u001b[36mi64\u001b[39m \u001b[33m[\u001b[39m \u001b[33m0\u001b[39m\u001b[0m, \u001b[91m%top\u001b[39m \u001b[33m]\u001b[39m\u001b[0m, \u001b[33m[\u001b[39m \u001b[0m%6\u001b[0m, \u001b[91m%L17\u001b[39m \u001b[33m]\u001b[39m\u001b[0m, \u001b[33m[\u001b[39m \u001b[0m%22\u001b[0m, \u001b[91m%middle.block\u001b[39m \u001b[33m]\u001b[39m\u001b[0m, \u001b[33m[\u001b[39m \u001b[0m%28\u001b[0m, \u001b[91m%L35\u001b[39m \u001b[33m]\u001b[39m\n",
      "\u001b[90m; └\u001b[39m\n",
      "\u001b[90m;  @ In[25]:9 within `mysum`\u001b[39m\n",
      "  \u001b[96m\u001b[1mret\u001b[22m\u001b[39m \u001b[36mi64\u001b[39m \u001b[0m%value_phi9\n",
      "\u001b[33m}\u001b[39m\n"
     ]
    }
   ],
   "source": [
    "@code_llvm mysum([1,2,3])\n",
    "# different for each types going in"
   ]
  },
  {
   "cell_type": "markdown",
   "id": "24cfa563",
   "metadata": {
    "slideshow": {
     "slide_type": "subslide"
    }
   },
   "source": [
    "### Bonus: Is Julia actually fast?\n",
    "\n",
    "It's fair to say Julia has very high ceiling -- there's no particular reason why it's slower than C/C++/Fortran/Rust, if you don't mind writing similarly verbose code. The main attraction is you can get same speed with a fraction of the development effort, and sometimes even faster(!?)."
   ]
  },
  {
   "cell_type": "markdown",
   "id": "acceb749",
   "metadata": {
    "slideshow": {
     "slide_type": "fragment"
    }
   },
   "source": [
    "Some advantages in terms of performance against C/C++ - like language:\n",
    "- unlikely to reinvent something poorly, in C++ people tend to implement lots of stuff from scratch\n",
    "- low-level code limits the optimization options compiler has, it must do what you asked\n",
    " e.g. if you don't use BLAS, and wrote a triple for-loop, compiler can't just come up with BLAS\n",
    " "
   ]
  },
  {
   "cell_type": "markdown",
   "id": "bf3ad97b",
   "metadata": {
    "slideshow": {
     "slide_type": "fragment"
    }
   },
   "source": [
    "example of the second point in HEP can be found in [this CHEP 2023 talk](https://indico.jlab.org/event/459/contributions/11540/attachments/9410/13651/CHEP2023%20Polyglot%20Jet%20Finding.pdf), where C++ missed a SIMD oppurtunity."
   ]
  },
  {
   "cell_type": "markdown",
   "id": "f44436de",
   "metadata": {
    "slideshow": {
     "slide_type": "slide"
    }
   },
   "source": [
    "## Bonus: Julia source code to machine code\n",
    "\n",
    "![](https://user-images.githubusercontent.com/5306213/255769461-a6d7ecad-571a-4ca7-8b6a-9ba831d3e3bd.png)"
   ]
  },
  {
   "cell_type": "markdown",
   "id": "d4ff99f8",
   "metadata": {
    "slideshow": {
     "slide_type": "fragment"
    }
   },
   "source": [
    "```julia\n",
    "# Source code\n",
    "cos(x) + 2*x\n",
    "```"
   ]
  },
  {
   "cell_type": "code",
   "execution_count": 32,
   "id": "f59b376c",
   "metadata": {
    "slideshow": {
     "slide_type": "fragment"
    }
   },
   "outputs": [
    {
     "data": {
      "text/plain": [
       "true"
      ]
     },
     "execution_count": 32,
     "metadata": {},
     "output_type": "execute_result"
    }
   ],
   "source": [
    "# source code as data structure\n",
    "myexpr = :(cos(x) + 2x)\n",
    "\n",
    "myexpr == Meta.parse(\"cos(x) + 2*x\")"
   ]
  },
  {
   "cell_type": "code",
   "execution_count": 33,
   "id": "ca3a4ac5",
   "metadata": {
    "slideshow": {
     "slide_type": "subslide"
    }
   },
   "outputs": [
    {
     "name": "stdout",
     "output_type": "stream",
     "text": [
      "Expr\n",
      "  head: Symbol call\n",
      "  args: Array{Any}((3,))\n",
      "    1: Symbol +\n",
      "    2: Expr\n",
      "      head: Symbol call\n",
      "      args: Array{Any}((2,))\n",
      "        1: Symbol cos\n",
      "        2: Symbol x\n",
      "    3: Expr\n",
      "      head: Symbol call\n",
      "      args: Array{Any}((3,))\n",
      "        1: Symbol *\n",
      "        2: Int64 2\n",
      "        3: Symbol x\n"
     ]
    }
   ],
   "source": [
    "Meta.dump(myexpr)"
   ]
  },
  {
   "cell_type": "code",
   "execution_count": 34,
   "id": "d69b278a",
   "metadata": {},
   "outputs": [
    {
     "name": "stdout",
     "output_type": "stream",
     "text": [
      "(:call, :+, (:call, :cos, :x), (:call, :*, 2, :x))"
     ]
    }
   ],
   "source": [
    "Meta.show_sexpr(myexpr)"
   ]
  },
  {
   "cell_type": "code",
   "execution_count": 35,
   "id": "6e7841e8",
   "metadata": {
    "slideshow": {
     "slide_type": "subslide"
    }
   },
   "outputs": [
    {
     "data": {
      "text/plain": [
       "F (generic function with 1 method)"
      ]
     },
     "execution_count": 35,
     "metadata": {},
     "output_type": "execute_result"
    }
   ],
   "source": [
    "F(x) = cos(x) + 2*x"
   ]
  },
  {
   "cell_type": "code",
   "execution_count": 36,
   "id": "c186c1ee",
   "metadata": {
    "slideshow": {
     "slide_type": "subslide"
    }
   },
   "outputs": [
    {
     "data": {
      "text/plain": [
       "CodeInfo(\n",
       "\u001b[90m1 ─\u001b[39m %1 = invoke Main.cos(x::Float64)\u001b[36m::Float64\u001b[39m\n",
       "\u001b[90m│  \u001b[39m %2 = Base.mul_float(2.0, x)\u001b[36m::Float64\u001b[39m\n",
       "\u001b[90m│  \u001b[39m %3 = Base.add_float(%1, %2)\u001b[36m::Float64\u001b[39m\n",
       "\u001b[90m└──\u001b[39m      return %3\n",
       ") => Float64"
      ]
     },
     "execution_count": 36,
     "metadata": {},
     "output_type": "execute_result"
    }
   ],
   "source": [
    "@code_typed F(3.2)"
   ]
  },
  {
   "cell_type": "code",
   "execution_count": 37,
   "id": "2119d31d",
   "metadata": {
    "slideshow": {
     "slide_type": "fragment"
    }
   },
   "outputs": [
    {
     "name": "stdout",
     "output_type": "stream",
     "text": [
      "\u001b[90m;  @ In[35]:1 within `F`\u001b[39m\n",
      "\u001b[95mdefine\u001b[39m \u001b[36mdouble\u001b[39m \u001b[93m@julia_F_3574\u001b[39m\u001b[33m(\u001b[39m\u001b[36mdouble\u001b[39m \u001b[0m%0\u001b[33m)\u001b[39m \u001b[0m#0 \u001b[33m{\u001b[39m\n",
      "\u001b[91mtop:\u001b[39m\n",
      "  \u001b[0m%1 \u001b[0m= \u001b[96m\u001b[1mcall\u001b[22m\u001b[39m \u001b[36mdouble\u001b[39m \u001b[93m@j_cos_3576\u001b[39m\u001b[33m(\u001b[39m\u001b[36mdouble\u001b[39m \u001b[0m%0\u001b[33m)\u001b[39m \u001b[0m#0\n",
      "\u001b[90m; ┌ @ promotion.jl:411 within `*` @ float.jl:410\u001b[39m\n",
      "   \u001b[0m%2 \u001b[0m= \u001b[96m\u001b[1mfmul\u001b[22m\u001b[39m \u001b[36mdouble\u001b[39m \u001b[0m%0\u001b[0m, \u001b[33m2.000000e+00\u001b[39m\n",
      "\u001b[90m; └\u001b[39m\n",
      "\u001b[90m; ┌ @ float.jl:408 within `+`\u001b[39m\n",
      "   \u001b[0m%3 \u001b[0m= \u001b[96m\u001b[1mfadd\u001b[22m\u001b[39m \u001b[36mdouble\u001b[39m \u001b[0m%2\u001b[0m, \u001b[0m%1\n",
      "\u001b[90m; └\u001b[39m\n",
      "  \u001b[96m\u001b[1mret\u001b[22m\u001b[39m \u001b[36mdouble\u001b[39m \u001b[0m%3\n",
      "\u001b[33m}\u001b[39m\n"
     ]
    }
   ],
   "source": [
    "@code_llvm F(3.2)"
   ]
  },
  {
   "cell_type": "code",
   "execution_count": 38,
   "id": "fe05ba3d",
   "metadata": {
    "slideshow": {
     "slide_type": "subslide"
    }
   },
   "outputs": [
    {
     "name": "stdout",
     "output_type": "stream",
     "text": [
      "\t\u001b[0m.text\n",
      "\t\u001b[0m.file\t\u001b[0m\"F\"\n",
      "\t\u001b[0m.globl\t\u001b[0mjulia_F_3591                    \u001b[90m# -- Begin function julia_F_3591\u001b[39m\n",
      "\t\u001b[0m.p2align\t\u001b[33m4\u001b[39m\u001b[0m, \u001b[33m0x90\u001b[39m\n",
      "\t\u001b[0m.type\t\u001b[0mjulia_F_3591\u001b[0m,\u001b[0m@function\n",
      "\u001b[91mjulia_F_3591:\u001b[39m                           \u001b[90m# @julia_F_3591\u001b[39m\n",
      "\u001b[90m; ┌ @ In[35]:1 within `F`\u001b[39m\n",
      "\t\u001b[0m.cfi_startproc\n",
      "\u001b[90m# %bb.0:                                # %top\u001b[39m\n",
      "\t\u001b[96m\u001b[1mpushq\u001b[22m\u001b[39m\t\u001b[0m%rbp\n",
      "\t\u001b[0m.cfi_def_cfa_offset \u001b[33m16\u001b[39m\n",
      "\t\u001b[0m.cfi_offset \u001b[0m%rbp\u001b[0m, \u001b[33m-16\u001b[39m\n",
      "\t\u001b[96m\u001b[1mmovq\u001b[22m\u001b[39m\t\u001b[0m%rsp\u001b[0m, \u001b[0m%rbp\n",
      "\t\u001b[0m.cfi_def_cfa_register \u001b[0m%rbp\n",
      "\t\u001b[96m\u001b[1msubq\u001b[22m\u001b[39m\t\u001b[33m$16\u001b[39m\u001b[0m, \u001b[0m%rsp\n",
      "\t\u001b[96m\u001b[1mvmovsd\u001b[22m\u001b[39m\t\u001b[0m%xmm0\u001b[0m, \u001b[33m-8\u001b[39m\u001b[33m(\u001b[39m\u001b[0m%rbp\u001b[33m)\u001b[39m                 \u001b[90m# 8-byte Spill\u001b[39m\n",
      "\t\u001b[96m\u001b[1mmovabsq\u001b[22m\u001b[39m\t\u001b[93m$j_cos_3593\u001b[39m\u001b[0m, \u001b[0m%rax\n",
      "\t\u001b[96m\u001b[1mcallq\u001b[22m\u001b[39m\t\u001b[0m*\u001b[0m%rax\n",
      "\t\u001b[96m\u001b[1mvmovsd\u001b[22m\u001b[39m\t\u001b[33m-8\u001b[39m\u001b[33m(\u001b[39m\u001b[0m%rbp\u001b[33m)\u001b[39m\u001b[0m, \u001b[0m%xmm1                 \u001b[90m# 8-byte Reload\u001b[39m\n",
      "                                        \u001b[90m# xmm1 = mem[0],zero\u001b[39m\n",
      "\u001b[90m; │┌ @ promotion.jl:411 within `*` @ float.jl:410\u001b[39m\n",
      "\t\u001b[96m\u001b[1mvaddsd\u001b[22m\u001b[39m\t\u001b[0m%xmm1\u001b[0m, \u001b[0m%xmm1\u001b[0m, \u001b[0m%xmm1\n",
      "\u001b[90m; │└\u001b[39m\n",
      "\u001b[90m; │┌ @ float.jl:408 within `+`\u001b[39m\n",
      "\t\u001b[96m\u001b[1mvaddsd\u001b[22m\u001b[39m\t\u001b[0m%xmm0\u001b[0m, \u001b[0m%xmm1\u001b[0m, \u001b[0m%xmm0\n",
      "\u001b[90m; │└\u001b[39m\n",
      "\t\u001b[96m\u001b[1maddq\u001b[22m\u001b[39m\t\u001b[33m$16\u001b[39m\u001b[0m, \u001b[0m%rsp\n",
      "\t\u001b[96m\u001b[1mpopq\u001b[22m\u001b[39m\t\u001b[0m%rbp\n",
      "\t\u001b[0m.cfi_def_cfa \u001b[0m%rsp\u001b[0m, \u001b[33m8\u001b[39m\n",
      "\t\u001b[96m\u001b[1mretq\u001b[22m\u001b[39m\n",
      "\u001b[91m.Lfunc_end0:\u001b[39m\n",
      "\t\u001b[0m.size\t\u001b[0mjulia_F_3591\u001b[0m, \u001b[0m.Lfunc_end0-julia_F_3591\n",
      "\t\u001b[0m.cfi_endproc\n",
      "\u001b[90m; └\u001b[39m\n",
      "                                        \u001b[90m# -- End function\u001b[39m\n",
      "\t\u001b[0m.section\t\u001b[0m\".note.GNU-stack\"\u001b[0m,\u001b[0m\"\"\u001b[0m,\u001b[0m@progbits\n"
     ]
    }
   ],
   "source": [
    "@code_native F(3.2)"
   ]
  },
  {
   "cell_type": "markdown",
   "id": "0d5ec980",
   "metadata": {
    "slideshow": {
     "slide_type": "slide"
    }
   },
   "source": [
    "## Analysis in Julia - fast from get go"
   ]
  },
  {
   "cell_type": "markdown",
   "id": "3c069e33",
   "metadata": {
    "slideshow": {
     "slide_type": "subslide"
    }
   },
   "source": [
    "## Accessing TTrees\n",
    "\n",
    "UnROOT.jl: reading ROOT data in pure Julia (when we wrote this, we wish we could just wrap some .so)\n",
    "\n",
    "\n",
    "- It's not as robust as uproot, but close (e.g NanoAOD ✅).\n",
    "\n",
    "- works with Tables.jl interface, you can using DataFrames.jl or using Arrow.jl to write to disk.\n",
    "\n",
    "Also supports RNTuple, future proof™, in fact, more robust thanks to RNTuple having a spec!"
   ]
  },
  {
   "cell_type": "code",
   "execution_count": 39,
   "id": "8e05c20e",
   "metadata": {
    "slideshow": {
     "slide_type": "subslide"
    }
   },
   "outputs": [
    {
     "data": {
      "text/plain": [
       "\u001b[1m Row \u001b[0m│\u001b[1m Electron_mass   \u001b[0m\u001b[1m nElectron \u001b[0m\u001b[1m luminosityBlock \u001b[0m\u001b[1m nMuon  \u001b[0m\u001b[1m Electron_phi    \u001b[0m\u001b[1m M\u001b[0m ⋯\n",
       "     │\u001b[90m SubArray{Float3 \u001b[0m\u001b[90m UInt32    \u001b[0m\u001b[90m UInt32          \u001b[0m\u001b[90m UInt32 \u001b[0m\u001b[90m SubArray{Float3 \u001b[0m\u001b[90m F\u001b[0m ⋯\n",
       "─────┼──────────────────────────────────────────────────────────────────────────\n",
       " 1   │ []               0          156              3       []               - ⋯\n",
       " 2   │ [0.00544,        4          156              0       [0.134, -1       2 ⋯\n",
       " 3   │ [-0.00609,       2          156              0       [2.18, 1.6       - ⋯\n",
       " 4   │ [-0.00123]       1          156              7       [-0.643]         - ⋯\n",
       " 5   │ [0.0117, 0       4          156              0       [1.01, -1.       1 ⋯\n",
       " 6   │ [-0.00183]       1          156              2       [-0.497]         - ⋯\n",
       " 7   │ [-0.00183]       1          156              1       [-1.47]          - ⋯\n",
       " 8   │ [-0.00216]       1          156              0       [-0.633]         - ⋯\n",
       " 9   │ [-0.0128,        4          156              0       [2.79, -2.       - ⋯\n",
       " 10  │ []               0          156              0       []               - ⋯\n",
       " 11  │ [-0.00119,       2          156              1       [2.28, -2.       0 ⋯\n",
       " 12  │ [0.00608,        3          156              2       [-1.31, -1       2 ⋯\n",
       " 13  │ [-0.00765,       4          156              0       [2.52, -3.       - ⋯\n",
       " 14  │ []               0          156              2       []               - ⋯\n",
       " 15  │ []               0          156              0       []               - ⋯\n",
       " 16  │ []               0          156              2       []               - ⋯\n",
       " 17  │ [0.0149, -       4          156              1       [1.82, -2.       - ⋯\n",
       " 18  │ [0.0407]         1          156              1       [2.18]           0 ⋯\n",
       " 19  │ []               0          156              3       []               - ⋯\n",
       " 20  │ [0.0144, 0       2          156              3       [-2.56, -2       0 ⋯\n",
       " 21  │ [-0.00491,       2          156              2       [-1.41, 0.       1 ⋯\n",
       "  ⋮  │        ⋮             ⋮             ⋮           ⋮            ⋮           ⋱\n",
       "\u001b[36m                                              27 columns and 299952 rows omitted\u001b[0m\n"
      ]
     },
     "execution_count": 39,
     "metadata": {},
     "output_type": "execute_result"
    }
   ],
   "source": [
    "# const is important for type stability, recall Julia's compilation model\n",
    "const events = LazyTree(\"./data/SMHiggsToZZTo4L.root\", \"Events\")"
   ]
  },
  {
   "cell_type": "markdown",
   "id": "fb2527e0",
   "metadata": {
    "slideshow": {
     "slide_type": "subslide"
    }
   },
   "source": [
    "You can think of `events` as a table (dataframe), except Julia (unlike Numpy) never had the limitation arround jagged array. For example, the `Muon_*` columns are vector of vectors:"
   ]
  },
  {
   "cell_type": "code",
   "execution_count": 40,
   "id": "9cfbc092",
   "metadata": {
    "scrolled": true
   },
   "outputs": [
    {
     "data": {
      "text/plain": [
       "4-element Vector{Vector{Int32}}:\n",
       " [1, -1, 1]\n",
       " []\n",
       " []\n",
       " [1, -1, -1, 1, -1, -1, 1]"
      ]
     },
     "execution_count": 40,
     "metadata": {},
     "output_type": "execute_result"
    }
   ],
   "source": [
    "first(events.Muon_charge, 4)"
   ]
  },
  {
   "cell_type": "markdown",
   "id": "511d9e72",
   "metadata": {},
   "source": [
    "### Loop and vectorized style -- gotta catch them all\n",
    "\n",
    "At this point you probably have seen various performance trade-offs in Python + C++ land, namely:\n",
    "- avoid loop in CPython, deligate to C++ to process batch (aka Numpy)\n",
    "- but this solution excessively allocates for intermediates, especially when program logic is non-trivial\n",
    "\n",
    "(we will comment on this \"vectorzied style -> intermidiates allocation in a moment)\n",
    "\n",
    "- try Numba when possible\n",
    "- but Numba never Just™ works when you have complex dependencies (uproot, awkward, or any other C++ stuff)"
   ]
  },
  {
   "cell_type": "markdown",
   "id": "78cd1fb2",
   "metadata": {},
   "source": [
    "Julia gives you fast for loop doesn't mean you can only write loops, vectorized style is useful!"
   ]
  },
  {
   "cell_type": "code",
   "execution_count": 41,
   "id": "abdb89ba",
   "metadata": {
    "slideshow": {
     "slide_type": "subslide"
    }
   },
   "outputs": [
    {
     "data": {
      "text/plain": [
       "3-element Vector{LorentzVectorCyl{Float32}}:\n",
       " LorentzVectorCyl{Float32}(pt=63.04387, eta=-0.7186822, phi=2.968006, mass=0.10565837)\n",
       " LorentzVectorCyl{Float32}(pt=38.120346, eta=-0.879457, phi=-1.032475, mass=0.10565837)\n",
       " LorentzVectorCyl{Float32}(pt=4.0486875, eta=-0.32076442, phi=1.0385035, mass=0.10565837)"
      ]
     },
     "execution_count": 41,
     "metadata": {},
     "output_type": "execute_result"
    }
   ],
   "source": [
    "using LorentzVectorHEP\n",
    "one_event = first(events);\n",
    "\n",
    "# destruct syntax sugar\n",
    "(; Muon_pt, Muon_eta, Muon_phi, Muon_mass) = one_event\n",
    "\n",
    "muons = LorentzVectorCyl.(Muon_pt, Muon_eta, Muon_phi, Muon_mass)\n",
    "#                       ^---- this is broadcast"
   ]
  },
  {
   "cell_type": "markdown",
   "id": "9512a05c",
   "metadata": {
    "slideshow": {
     "slide_type": "slide"
    }
   },
   "source": [
    "## Reconstruct H->ZZ->4 mu\n",
    "\n",
    "Ignore electrons for a moment:\n",
    "1. Require exactly 2 positive and 2 negative muons\n",
    "2. Sum up the 4-vectors of these four muons\n",
    "3. fill histogram"
   ]
  },
  {
   "cell_type": "markdown",
   "id": "4fbaf265",
   "metadata": {
    "slideshow": {
     "slide_type": "subslide"
    }
   },
   "source": [
    "### Part 1, early continue if doesn't pass selection\n",
    "\n",
    "```julia\n",
    "(; Muon_charge) = evt\n",
    "\n",
    "if length(Muon_charge) != 4\n",
    "    continue\n",
    "end\n",
    "\n",
    "sum(Muon_charge) != 0 && continue # shortcut if-else\n",
    "```"
   ]
  },
  {
   "cell_type": "markdown",
   "id": "cfe8d2fc",
   "metadata": {
    "slideshow": {
     "slide_type": "subslide"
    }
   },
   "source": [
    "### Part 2, reconstruct the higgs\n",
    "`fast_mass()` also available\n",
    "\n",
    "```julia\n",
    "\n",
    "(; Muon_pt, Muon_eta, Muon_phi, Muon_mass) = evt\n",
    "\n",
    "higgs_4vector = sum(LorentzVectorCyl.(Muon_pt, Muon_eta, Muon_phi, Muon_mass))\n",
    "    \n",
    "higgs_mass = mass(higgs_4vector)\n",
    "```"
   ]
  },
  {
   "cell_type": "markdown",
   "id": "fba45236",
   "metadata": {
    "slideshow": {
     "slide_type": "fragment"
    }
   },
   "source": [
    "### Part 3, fill histogram\n",
    "```julia\n",
    "higgs_mass = mass(higgs_4vector)\n",
    "```\n"
   ]
  },
  {
   "cell_type": "code",
   "execution_count": 42,
   "id": "526164cd",
   "metadata": {
    "slideshow": {
     "slide_type": "subslide"
    }
   },
   "outputs": [
    {
     "data": {
      "text/plain": [
       "main_looper (generic function with 1 method)"
      ]
     },
     "execution_count": 42,
     "metadata": {},
     "output_type": "execute_result"
    }
   ],
   "source": [
    "using FHist\n",
    "\n",
    "function main_looper(events)\n",
    "    hist = Hist1D(Float64; bins=90:140)\n",
    "    for evt in events\n",
    "        ### Part 1\n",
    "        (; Muon_charge) = evt\n",
    "        if length(Muon_charge) != 4\n",
    "            continue\n",
    "        end\n",
    "        sum(Muon_charge) != 0 && continue # shortcut if-else\n",
    "        \n",
    "        ### Part 2\n",
    "        (; Muon_pt, Muon_eta, Muon_phi, Muon_mass) = evt\n",
    "        higgs_4vector = sum(LorentzVectorCyl.(Muon_pt, Muon_eta, Muon_phi, Muon_mass))\n",
    "        higgs_mass = mass(higgs_4vector)\n",
    "        \n",
    "        ### Part 3\n",
    "        push!(hist, higgs_mass)\n",
    "    end\n",
    "    \n",
    "    \n",
    "    return hist\n",
    "end"
   ]
  },
  {
   "cell_type": "markdown",
   "id": "4fea0bf7",
   "metadata": {},
   "source": [
    "more benchmarks: https://github.com/Moelf/UnROOT_RDataFrame_MiniBenchmark"
   ]
  },
  {
   "cell_type": "code",
   "execution_count": 43,
   "id": "87857ed6",
   "metadata": {
    "slideshow": {
     "slide_type": "subslide"
    }
   },
   "outputs": [
    {
     "name": "stdout",
     "output_type": "stream",
     "text": [
      "  0.062103 seconds (22.65 k allocations: 51.361 MiB, 14.13% gc time)\n"
     ]
    },
    {
     "data": {
      "text/html": [
       "<div style=\"display: flex;\">\n",
       "    <div style=\"float:left; margin:5px\"><svg width=\"250\" height=\"200\" version=\"1.1\" xmlns=\"http://www.w3.org/2000/svg\">\n",
       "    <polyline points=\"12.5,180.0,12.5,178.56518739940216,17.0,178.56518739940216,17.0,178.85950793285815,21.5,178.85950793285815,21.5,178.8962979995401,26.000000000000004,178.8962979995401,26.000000000000004,178.82271786617613,30.500000000000004,178.82271786617613,30.500000000000004,178.52839733272017,35.0,178.52839733272017,35.0,178.60197746608418,39.50000000000001,178.60197746608418,39.50000000000001,178.56518739940216,44.00000000000001,178.56518739940216,44.00000000000001,178.4548171993562,48.50000000000001,178.4548171993562,48.50000000000001,178.19728673258223,53.00000000000001,178.19728673258223,53.00000000000001,177.93975626580826,57.50000000000001,177.93975626580826,57.50000000000001,177.90296619912624,62.00000000000001,177.90296619912624,62.00000000000001,177.3511151988963,66.5,177.3511151988963,66.5,177.24074499885032,71.00000000000001,177.24074499885032,71.00000000000001,177.46148539894227,75.50000000000001,177.46148539894227,75.50000000000001,176.83605426534837,80.00000000000001,176.83605426534837,80.00000000000001,176.3577833984824,84.50000000000001,176.3577833984824,84.50000000000001,177.1671648654863,89.00000000000001,177.1671648654863,89.00000000000001,176.6888939986204,93.50000000000001,176.6888939986204,93.50000000000001,177.13037479880433,98.00000000000001,177.13037479880433,98.00000000000001,177.27753506553233,102.50000000000001,177.27753506553233,102.50000000000001,176.32099333180042,107.00000000000001,176.32099333180042,107.00000000000001,176.02667279834446,111.50000000000001,176.02667279834446,111.50000000000001,176.10025293170844,116.00000000000001,176.10025293170844,116.00000000000001,175.95309266498046,120.50000000000001,175.95309266498046,120.50000000000001,174.62865026442861,125.00000000000001,174.62865026442861,125.00000000000001,174.44469993101862,129.50000000000003,174.44469993101862,129.50000000000003,174.26074959760865,134.00000000000003,174.26074959760865,134.00000000000003,173.08346746378479,138.50000000000003,173.08346746378479,138.50000000000003,172.42124626350886,143.00000000000003,172.42124626350886,143.00000000000003,169.66199126235918,147.50000000000003,169.66199126235918,147.50000000000003,165.9461945274776,152.00000000000003,165.9461945274776,152.00000000000003,157.7052195907105,156.50000000000003,157.7052195907105,156.50000000000003,138.05932398252472,161.00000000000003,138.05932398252472,161.00000000000003,84.16187629340078,165.50000000000003,84.16187629340078,165.50000000000003,19.999999999999996,170.00000000000003,19.999999999999996,170.00000000000003,34.2009657392504,174.50000000000003,34.2009657392504,174.50000000000003,116.24281444010118,179.00000000000003,116.24281444010118,179.00000000000003,159.98620372499425,183.50000000000003,159.98620372499425,183.50000000000003,174.44469993101862,188.00000000000003,174.44469993101862,188.00000000000003,176.90963439871234,192.50000000000003,176.90963439871234,192.50000000000003,178.85950793285815,197.00000000000003,178.85950793285815,197.00000000000003,178.78592779949415,201.50000000000003,178.78592779949415,201.50000000000003,178.8962979995401,206.00000000000003,178.8962979995401,206.00000000000003,179.41135893308805,210.50000000000003,179.41135893308805,210.50000000000003,179.74246953322603,215.00000000000003,179.74246953322603,215.00000000000003,179.55851919981603,219.50000000000003,179.55851919981603,219.50000000000003,179.52172913313407,224.00000000000003,179.52172913313407,224.00000000000003,179.85283973327202,228.50000000000003,179.85283973327202,228.50000000000003,179.63209933318007,233.00000000000003,179.63209933318007,233.00000000000003,179.74246953322603,237.50000000000003,179.74246953322603,237.5,180.0,12.5,180.0\" stroke=\"black\" fill=\"#ffffff00\" stroke-width=\"1\"/>\n",
       "    <polyline points=\"12.5,180.0,237.5,180.0\" stroke=\"black\" stroke-width=\"1\"/>\n",
       "    <text x=\"12.5\" y=\"190.0\" dominant-baseline=\"middle\" text-anchor=\"start\" fill=\"black\">90.0</text>\n",
       "    <text x=\"237.5\" y=\"190.0\" dominant-baseline=\"middle\" text-anchor=\"end\" fill=\"black\">140.0</text>\n",
       "</svg>\n",
       "</div>\n",
       "    <div style=\"float:left; margin:5px; max-width: 50%; display:flex; justify-content:center; align-items:center;\">\n",
       "        <ul>\n",
       "            <li>edges: 90:140</li>\n",
       "            <li>bin counts: [39.0, 31.0, 30.0, 32.0, 40.0, 38.0, 39.0, 42.0, 49.0, 56.0  …  31.0, 33.0, 30.0, 16.0, 7.0, 12.0, 13.0, 4.0, 10.0, 7.0]</li>\n",
       "            <li>maximum count: 4349.0</li>\n",
       "            <li>total count: 18445.0</li>\n",
       "        </ul>\n",
       "    </div>\n",
       "</div>\n",
       "\n"
      ],
      "text/plain": [
       "edges: 90:140\n",
       "bin counts: [39.0, 31.0, 30.0, 32.0, 40.0, 38.0, 39.0, 42.0, 49.0, 56.0  …  31.0, 33.0, 30.0, 16.0, 7.0, 12.0, 13.0, 4.0, 10.0, 7.0]\n",
       "total count: 18445.0"
      ]
     },
     "execution_count": 43,
     "metadata": {},
     "output_type": "execute_result"
    }
   ],
   "source": [
    "h1 = @time main_looper(events) # file size too small to be realistic, but I guess it's not slow"
   ]
  },
  {
   "cell_type": "code",
   "execution_count": 44,
   "id": "684d9046",
   "metadata": {
    "slideshow": {
     "slide_type": "subslide"
    }
   },
   "outputs": [
    {
     "data": {
      "image/png": "[encoded data removed]"
     },
     "execution_count": 44,
     "metadata": {},
     "output_type": "execute_result"
    }
   ],
   "source": [
    "using CairoMakie\n",
    "\n",
    "stairs(main_looper(events);\n",
    "    axis = (xlabel=\"4-muon inv. mass (GeV)\",\n",
    "        xticks = 0:5:140,\n",
    "        ylabel=\"Entries (unweighted)\",\n",
    "        limits=(nothing, nothing, 0, nothing)\n",
    "    )\n",
    ")"
   ]
  },
  {
   "cell_type": "markdown",
   "id": "4ec2840d",
   "metadata": {
    "slideshow": {
     "slide_type": "slide"
    }
   },
   "source": [
    "## Bonus: Implement the uproot version from yesterday\n",
    "\n",
    "Recall what we saw yesterday:\n",
    "```python\n",
    "muplus = events.muon[events.muon.charge > 0]\n",
    "muminus = events.muon[events.muon.charge < 0]\n",
    "\n",
    "mu1, mu2 = ak.unzip(ak.cartesian((muplus, muminus)))\n",
    "\n",
    "plt.hist(ak.ravel(\n",
    "    \n",
    "    (mu1 + mu2).mass\n",
    "\n",
    "), bins=100, range=(0, 100));\n",
    "\n",
    "\n",
    "```\n",
    "\n",
    "this makes pair-wise mass (within each event) between all possible combinations of mu+ mu- pair."
   ]
  },
  {
   "cell_type": "markdown",
   "id": "72cddcef",
   "metadata": {},
   "source": [
    "Hint:\n",
    "- feel free to make masks out of `Muon_charge .> 0` and ` .< 0`, broadcast\n",
    "- `Iterators.product` instead of `ak.cartesian`\n",
    "- instead of `ak.ravel`, a loop `for (m1, m2) in Iterators.product(...)` might be easier\n",
    "\n",
    "*Solution in next cell in notebook*"
   ]
  },
  {
   "cell_type": "code",
   "execution_count": 45,
   "id": "c5b11525",
   "metadata": {
    "slideshow": {
     "slide_type": "skip"
    }
   },
   "outputs": [
    {
     "data": {
      "text/plain": [
       "main_2 (generic function with 1 method)"
      ]
     },
     "execution_count": 45,
     "metadata": {},
     "output_type": "execute_result"
    }
   ],
   "source": [
    "using FHist\n",
    "\n",
    "function main_2(events)\n",
    "    hist = Hist1D(Float64; bins=0:100)\n",
    "    for evt in events\n",
    "        ### Part 1\n",
    "        (; Muon_charge) = evt\n",
    "        muplus = Muon_charge .> 0\n",
    "        muminus = Muon_charge .< 0\n",
    "        \n",
    "        (; Muon_pt, Muon_eta, Muon_phi, Muon_mass) = evt\n",
    "        muons = LorentzVectorCyl.(Muon_pt, Muon_eta, Muon_phi, Muon_mass)\n",
    "        \n",
    "        muons_product = @views Iterators.product(muons[muplus], muons[muminus])\n",
    "        \n",
    "        for (mu1, mu2) in muons_product\n",
    "            higgs_mass = fast_mass(mu1, mu2)\n",
    "            push!(hist, higgs_mass)\n",
    "        end\n",
    "    end\n",
    "    \n",
    "    \n",
    "    return hist\n",
    "end"
   ]
  },
  {
   "cell_type": "code",
   "execution_count": 46,
   "id": "dbaab27e",
   "metadata": {
    "slideshow": {
     "slide_type": "skip"
    }
   },
   "outputs": [
    {
     "name": "stdout",
     "output_type": "stream",
     "text": [
      "  0.202219 seconds (2.10 M allocations: 174.800 MiB, 19.69% gc time)\n"
     ]
    },
    {
     "data": {
      "text/html": [
       "<div style=\"display: flex;\">\n",
       "    <div style=\"float:left; margin:5px\"><svg width=\"250\" height=\"200\" version=\"1.1\" xmlns=\"http://www.w3.org/2000/svg\">\n",
       "    <polyline points=\"12.5,180.0,12.5,160.84942084942085,14.750000000000002,160.84942084942085,14.750000000000002,156.10719963661143,17.0,156.10719963661143,17.0,150.11128775834658,19.25,150.11128775834658,19.25,143.55212355212353,21.5,143.55212355212353,21.5,135.73926868044515,23.750000000000004,135.73926868044515,23.750000000000004,120.29525323642972,26.000000000000004,120.29525323642972,26.000000000000004,115.84374290256645,28.250000000000004,115.84374290256645,28.250000000000004,118.20576879400409,30.500000000000004,118.20576879400409,30.500000000000004,118.55098796275267,32.75,118.55098796275267,32.75,116.24347036111745,35.0,116.24347036111745,35.0,114.55371337724279,37.25000000000001,114.55371337724279,37.25000000000001,112.60958437429025,39.50000000000001,112.60958437429025,39.50000000000001,112.51873722461958,41.75000000000001,112.51873722461958,41.75000000000001,109.93867817397229,44.00000000000001,109.93867817397229,44.00000000000001,108.01271860095389,46.25000000000001,108.01271860095389,46.25000000000001,108.10356575062458,48.50000000000001,108.10356575062458,48.50000000000001,103.61571655689303,50.75000000000001,103.61571655689303,50.75000000000001,101.78060413354531,53.00000000000001,101.78060413354531,53.00000000000001,97.7106518282989,55.25000000000001,97.7106518282989,55.25000000000001,95.02157619804679,57.50000000000001,95.02157619804679,57.50000000000001,92.02362025891439,59.75000000000001,92.02362025891439,59.75000000000001,89.4435612082671,62.00000000000001,89.4435612082671,62.00000000000001,84.2652736770384,64.25,84.2652736770384,64.25,86.26391096979333,66.5,86.26391096979333,66.5,82.33931410401999,68.75000000000001,82.33931410401999,68.75000000000001,78.86895298660006,71.00000000000001,78.86895298660006,71.00000000000001,80.83125141948672,73.25000000000001,80.83125141948672,73.25000000000001,78.59641153758801,75.50000000000001,78.59641153758801,75.50000000000001,80.94026799909153,77.75000000000001,80.94026799909153,77.75000000000001,80.467862820804,80.00000000000001,80.467862820804,80.00000000000001,82.86622757210993,82.25000000000001,82.86622757210993,82.25000000000001,90.15216897569839,84.50000000000001,90.15216897569839,84.50000000000001,99.14603679309563,86.75000000000001,99.14603679309563,86.75000000000001,107.97637974108562,89.00000000000001,107.97637974108562,89.00000000000001,118.47831024301611,91.25000000000001,118.47831024301611,91.25000000000001,124.32886668180787,93.50000000000001,124.32886668180787,93.50000000000001,128.762207585737,95.75000000000001,128.762207585737,95.75000000000001,130.10674540086305,98.00000000000001,130.10674540086305,98.00000000000001,133.1228707699296,100.25000000000001,133.1228707699296,100.25000000000001,134.75811946400182,102.50000000000001,134.75811946400182,102.50000000000001,134.23120599591186,104.75000000000001,134.23120599591186,104.75000000000001,136.55689302748127,107.00000000000001,136.55689302748127,107.00000000000001,139.5730183965478,109.25000000000001,139.5730183965478,109.25000000000001,139.3731546672723,111.50000000000001,139.3731546672723,111.50000000000001,138.57369975017036,113.75000000000001,138.57369975017036,113.75000000000001,140.60867590279355,116.00000000000001,140.60867590279355,116.00000000000001,142.82534635475812,118.25000000000001,142.82534635475812,118.25000000000001,141.8078582784465,120.50000000000001,141.8078582784465,120.50000000000001,144.93300022711787,122.75000000000001,144.93300022711787,122.75000000000001,145.5507608448785,125.00000000000001,145.5507608448785,125.00000000000001,146.89529866000456,127.25000000000001,146.89529866000456,127.25000000000001,146.69543493072905,129.50000000000003,146.69543493072905,129.50000000000003,148.71224165341812,131.75000000000003,148.71224165341812,131.75000000000003,150.03861003861005,134.00000000000003,150.03861003861005,134.00000000000003,149.52986600045423,136.25000000000003,149.52986600045423,136.25000000000003,150.2203043379514,138.50000000000003,150.2203043379514,138.50000000000003,151.11060640472408,140.75000000000003,151.11060640472408,140.75000000000003,153.98137633431753,143.00000000000003,153.98137633431753,143.00000000000003,154.8353395412219,145.25000000000003,154.8353395412219,145.25000000000003,156.07086077674313,147.50000000000003,156.07086077674313,147.50000000000003,155.10788099023392,149.75000000000003,155.10788099023392,149.75000000000003,156.74312968430618,152.00000000000003,156.74312968430618,152.00000000000003,157.1610265727913,154.25000000000003,157.1610265727913,154.25000000000003,158.32387008857597,156.50000000000003,158.32387008857597,156.50000000000003,158.50556438791733,158.75000000000003,158.50556438791733,158.75000000000003,160.61321826027708,161.00000000000003,160.61321826027708,161.00000000000003,160.08630479218715,163.25000000000003,160.08630479218715,163.25000000000003,161.2309788780377,165.50000000000003,161.2309788780377,165.50000000000003,161.15830115830116,167.75000000000003,161.15830115830116,167.75000000000003,162.3938223938224,170.00000000000003,162.3938223938224,170.00000000000003,162.37565296388829,172.25000000000003,162.37565296388829,172.25000000000003,162.30297524415172,174.50000000000003,162.30297524415172,174.50000000000003,163.17510788099023,176.75000000000003,163.17510788099023,176.75000000000003,162.63002498296618,179.00000000000003,162.63002498296618,179.00000000000003,164.13808766749943,181.25000000000003,164.13808766749943,181.25000000000003,163.57483533954124,183.50000000000003,163.57483533954124,183.50000000000003,162.12128094481037,185.75000000000003,162.12128094481037,185.75000000000003,161.84873949579833,188.00000000000003,161.84873949579833,188.00000000000003,160.9220985691574,190.25000000000003,160.9220985691574,190.25000000000003,160.867590279355,192.50000000000003,160.867590279355,192.50000000000003,160.32250738133092,194.75000000000003,160.32250738133092,194.75000000000003,158.6872586872587,197.00000000000003,158.6872586872587,197.00000000000003,156.01635248694072,199.25000000000003,156.01635248694072,199.25000000000003,153.61798773563478,201.50000000000003,153.61798773563478,201.50000000000003,147.62207585736996,203.75000000000003,147.62207585736996,203.75000000000003,142.69816034521918,206.00000000000003,142.69816034521918,206.00000000000003,130.4883034294799,208.25000000000003,130.4883034294799,208.25000000000003,116.27980922098571,210.50000000000003,116.27980922098571,210.50000000000003,87.13604360663186,212.75000000000003,87.13604360663186,212.75000000000003,50.39745627980923,215.00000000000003,50.39745627980923,215.00000000000003,19.999999999999996,217.25000000000003,19.999999999999996,217.25000000000003,28.339768339768344,219.50000000000003,28.339768339768344,219.50000000000003,74.39927322280265,221.75000000000003,74.39927322280265,221.75000000000003,121.94867136043608,224.00000000000003,121.94867136043608,224.00000000000003,148.694072223484,226.25000000000003,148.694072223484,226.25000000000003,162.52100840336135,228.50000000000003,162.52100840336135,228.50000000000003,170.04315239609357,230.75000000000003,170.04315239609357,230.75000000000003,173.87690211219623,233.00000000000003,173.87690211219623,233.00000000000003,176.1480808539632,235.25000000000003,176.1480808539632,235.25000000000003,177.2564160799455,237.50000000000003,177.2564160799455,237.5,180.0,12.5,180.0\" stroke=\"black\" fill=\"#ffffff00\" stroke-width=\"1\"/>\n",
       "    <polyline points=\"12.5,180.0,237.5,180.0\" stroke=\"black\" stroke-width=\"1\"/>\n",
       "    <text x=\"12.5\" y=\"190.0\" dominant-baseline=\"middle\" text-anchor=\"start\" fill=\"black\">0.0</text>\n",
       "    <text x=\"237.5\" y=\"190.0\" dominant-baseline=\"middle\" text-anchor=\"end\" fill=\"black\">100.0</text>\n",
       "</svg>\n",
       "</div>\n",
       "    <div style=\"float:left; margin:5px; max-width: 50%; display:flex; justify-content:center; align-items:center;\">\n",
       "        <ul>\n",
       "            <li>edges: 0:100</li>\n",
       "            <li>bin counts: [1054.0, 1315.0, 1645.0, 2006.0, 2436.0, 3286.0, 3531.0, 3401.0, 3382.0, 3509.0  …  8806.0, 8347.0, 5812.0, 3195.0, 1723.0, 962.0, 548.0, 337.0, 212.0, 151.0]</li>\n",
       "            <li>maximum count: 8806.0</li>\n",
       "            <li>total count: 271500.0</li>\n",
       "        </ul>\n",
       "    </div>\n",
       "</div>\n",
       "\n"
      ],
      "text/plain": [
       "edges: 0:100\n",
       "bin counts: [1054.0, 1315.0, 1645.0, 2006.0, 2436.0, 3286.0, 3531.0, 3401.0, 3382.0, 3509.0  …  8806.0, 8347.0, 5812.0, 3195.0, 1723.0, 962.0, 548.0, 337.0, 212.0, 151.0]\n",
       "total count: 271500.0"
      ]
     },
     "execution_count": 46,
     "metadata": {},
     "output_type": "execute_result"
    }
   ],
   "source": [
    "@time main_2(events)"
   ]
  },
  {
   "cell_type": "markdown",
   "id": "ee62e4b1",
   "metadata": {
    "slideshow": {
     "slide_type": "slide"
    }
   },
   "source": [
    "## Better vectorized style via fusion\n",
    "\n",
    "Although Julia's main \"sale point\" (portraited by me here) is \"just write for loops\" and it will work & fast, \n",
    "\n",
    "Quoting some gripes summarized by Jim yesterday:\n",
    "\n",
    ">  - Allocating memory is expensive (a search through fragmented RAM).\n",
    ">  - Accessing new areas of RAM is expensive because it bypasses the CPU caching mechanism.\n",
    ">  - Most mathematical calculations are faster than fetching data from RAM (into CPU caches).\n",
    "\n",
    "While they can't be fundamentally avoided (i.e. if you broadcast, you ask for allocation) unless with really advanced compiler optimization (e.g. escape analysis sees allocated array never gets used, optiized it away).\n",
    "\n",
    "But it can be improved via [Loop fusion](https://julialang.org/blog/2017/01/moredots/)."
   ]
  },
  {
   "cell_type": "markdown",
   "id": "f625746c",
   "metadata": {
    "slideshow": {
     "slide_type": "subslide"
    }
   },
   "source": [
    "You've seen Julia has special syntax for broadcasting:\n",
    "\n",
    "```julia\n",
    "myfunc.(arr .+ 1) .* 2\n",
    "```\n",
    "\n",
    "naively, and indeed in Numpy, this creates 2 copies of unnecessary intermediate copies size `O(arr)`, which is especially problematic if `arr` is a \"branch\" of a `TTree` backed by on-disk bytes, often O(GB).\n",
    "\n",
    "How does having the \"dot\" syntax in Julia help?"
   ]
  },
  {
   "cell_type": "markdown",
   "id": "cb0fcbe1",
   "metadata": {
    "slideshow": {
     "slide_type": "subslide"
    }
   },
   "source": [
    "From Numpy's perspective, there's no way around it: in order to know what to do for `myfunc(...)`, you have to compute `...` first, which result in allocation. There's no \"handle\" for Numpy to see the whole picture, because that's at syntax level and defined by Python.\n",
    "\n",
    "A possible mitigation is to make everything lazy, then you just `.compute()` in the end, this is useful in many cases for more reasons, but is simply not how \"normal Python\" works and creates the problem of \"how much do/can you delay anyway\"."
   ]
  },
  {
   "cell_type": "markdown",
   "id": "a25cd230",
   "metadata": {
    "slideshow": {
     "slide_type": "subslide"
    }
   },
   "source": [
    "If we look at what the code translates to in Julia:"
   ]
  },
  {
   "cell_type": "code",
   "execution_count": 47,
   "id": "0ab828c2",
   "metadata": {
    "slideshow": {
     "slide_type": "-"
    }
   },
   "outputs": [
    {
     "data": {
      "text/plain": [
       ":($(Expr(:thunk, CodeInfo(\n",
       "   \u001b[33m @ none within `top-level scope`\u001b[39m\n",
       "\u001b[90m1 ─\u001b[39m %1 = *\n",
       "\u001b[90m│  \u001b[39m %2 = myfunc\n",
       "\u001b[90m│  \u001b[39m %3 = Base.broadcasted(+, arr, 1)\n",
       "\u001b[90m│  \u001b[39m %4 = Base.broadcasted(%2, %3)\n",
       "\u001b[90m│  \u001b[39m %5 = Base.broadcasted(%1, %4, 2)\n",
       "\u001b[90m│  \u001b[39m %6 = Base.materialize(%5)\n",
       "\u001b[90m└──\u001b[39m      return %6\n",
       "))))"
      ]
     },
     "execution_count": 47,
     "metadata": {},
     "output_type": "execute_result"
    }
   ],
   "source": [
    "Meta.@lower myfunc.(arr .+ 1) .* 2"
   ]
  },
  {
   "cell_type": "markdown",
   "id": "10a48b68",
   "metadata": {},
   "source": [
    "we see that this syntax gets lowered to a special construct, and they gets nested together before \"materialized\" into the result, effectively re-writing your broadcasting code into the ideal form:\n",
    "\n",
    "```julia\n",
    "pre_allocate = Array{inferred type, dimension of arr}(undef, shape(arr))\n",
    "\n",
    "for i in eachindex(arr)\n",
    "    pre_allocate[i] = mufunc(arr[i] + 1) * 2\n",
    "end\n",
    "\n",
    "return pre_allocate\n",
    "```\n",
    "\n",
    "and this will be as fast as ~~humanly~~ computerly possible"
   ]
  },
  {
   "cell_type": "markdown",
   "id": "8b5c7e84",
   "metadata": {
    "slideshow": {
     "slide_type": "slide"
    }
   },
   "source": [
    "## Scale locally (saturate I/O)\n",
    "Multi-threading is easy:"
   ]
  },
  {
   "cell_type": "code",
   "execution_count": 48,
   "id": "03943caa",
   "metadata": {},
   "outputs": [
    {
     "data": {
      "text/plain": [
       "main_looper_MT (generic function with 1 method)"
      ]
     },
     "execution_count": 48,
     "metadata": {},
     "output_type": "execute_result"
    }
   ],
   "source": [
    "function main_looper_MT(events)\n",
    "    hist = Hist1D(Float64; bins=90:140)\n",
    "    Threads.@threads for evt in events\n",
    "        ### Part 1\n",
    "        (; Muon_charge) = evt\n",
    "        if length(Muon_charge) != 4\n",
    "            continue\n",
    "        end\n",
    "        sum(Muon_charge) != 0 && continue # shortcut if-else\n",
    "        \n",
    "        ### Part 2\n",
    "        (; Muon_pt, Muon_eta, Muon_phi, Muon_mass) = evt\n",
    "        higgs_4vector = sum(LorentzVectorCyl.(Muon_pt, Muon_eta, Muon_phi, Muon_mass))\n",
    "        higgs_mass = mass(higgs_4vector)\n",
    "        \n",
    "        ### Part 3\n",
    "        atomic_push!(hist, higgs_mass)\n",
    "    end\n",
    "    \n",
    "    \n",
    "    return hist\n",
    "end"
   ]
  },
  {
   "cell_type": "code",
   "execution_count": 49,
   "id": "541fdd75",
   "metadata": {},
   "outputs": [
    {
     "name": "stdout",
     "output_type": "stream",
     "text": [
      "  0.115506 seconds (231.50 k allocations: 102.094 MiB, 10.20% gc time, 257.10% compilation time)\n"
     ]
    },
    {
     "data": {
      "text/html": [
       "<div style=\"display: flex;\">\n",
       "    <div style=\"float:left; margin:5px\"><svg width=\"250\" height=\"200\" version=\"1.1\" xmlns=\"http://www.w3.org/2000/svg\">\n",
       "    <polyline points=\"12.5,180.0,12.5,178.56518739940216,17.0,178.56518739940216,17.0,178.85950793285815,21.5,178.85950793285815,21.5,178.8962979995401,26.000000000000004,178.8962979995401,26.000000000000004,178.82271786617613,30.500000000000004,178.82271786617613,30.500000000000004,178.52839733272017,35.0,178.52839733272017,35.0,178.60197746608418,39.50000000000001,178.60197746608418,39.50000000000001,178.56518739940216,44.00000000000001,178.56518739940216,44.00000000000001,178.4548171993562,48.50000000000001,178.4548171993562,48.50000000000001,178.19728673258223,53.00000000000001,178.19728673258223,53.00000000000001,177.93975626580826,57.50000000000001,177.93975626580826,57.50000000000001,177.90296619912624,62.00000000000001,177.90296619912624,62.00000000000001,177.3511151988963,66.5,177.3511151988963,66.5,177.24074499885032,71.00000000000001,177.24074499885032,71.00000000000001,177.46148539894227,75.50000000000001,177.46148539894227,75.50000000000001,176.83605426534837,80.00000000000001,176.83605426534837,80.00000000000001,176.3577833984824,84.50000000000001,176.3577833984824,84.50000000000001,177.1671648654863,89.00000000000001,177.1671648654863,89.00000000000001,176.6888939986204,93.50000000000001,176.6888939986204,93.50000000000001,177.13037479880433,98.00000000000001,177.13037479880433,98.00000000000001,177.27753506553233,102.50000000000001,177.27753506553233,102.50000000000001,176.32099333180042,107.00000000000001,176.32099333180042,107.00000000000001,176.02667279834446,111.50000000000001,176.02667279834446,111.50000000000001,176.10025293170844,116.00000000000001,176.10025293170844,116.00000000000001,175.95309266498046,120.50000000000001,175.95309266498046,120.50000000000001,174.62865026442861,125.00000000000001,174.62865026442861,125.00000000000001,174.44469993101862,129.50000000000003,174.44469993101862,129.50000000000003,174.26074959760865,134.00000000000003,174.26074959760865,134.00000000000003,173.08346746378479,138.50000000000003,173.08346746378479,138.50000000000003,172.42124626350886,143.00000000000003,172.42124626350886,143.00000000000003,169.66199126235918,147.50000000000003,169.66199126235918,147.50000000000003,165.9461945274776,152.00000000000003,165.9461945274776,152.00000000000003,157.7052195907105,156.50000000000003,157.7052195907105,156.50000000000003,138.05932398252472,161.00000000000003,138.05932398252472,161.00000000000003,84.16187629340078,165.50000000000003,84.16187629340078,165.50000000000003,19.999999999999996,170.00000000000003,19.999999999999996,170.00000000000003,34.2009657392504,174.50000000000003,34.2009657392504,174.50000000000003,116.24281444010118,179.00000000000003,116.24281444010118,179.00000000000003,159.98620372499425,183.50000000000003,159.98620372499425,183.50000000000003,174.44469993101862,188.00000000000003,174.44469993101862,188.00000000000003,176.90963439871234,192.50000000000003,176.90963439871234,192.50000000000003,178.85950793285815,197.00000000000003,178.85950793285815,197.00000000000003,178.78592779949415,201.50000000000003,178.78592779949415,201.50000000000003,178.8962979995401,206.00000000000003,178.8962979995401,206.00000000000003,179.41135893308805,210.50000000000003,179.41135893308805,210.50000000000003,179.74246953322603,215.00000000000003,179.74246953322603,215.00000000000003,179.55851919981603,219.50000000000003,179.55851919981603,219.50000000000003,179.52172913313407,224.00000000000003,179.52172913313407,224.00000000000003,179.85283973327202,228.50000000000003,179.85283973327202,228.50000000000003,179.63209933318007,233.00000000000003,179.63209933318007,233.00000000000003,179.74246953322603,237.50000000000003,179.74246953322603,237.5,180.0,12.5,180.0\" stroke=\"black\" fill=\"#ffffff00\" stroke-width=\"1\"/>\n",
       "    <polyline points=\"12.5,180.0,237.5,180.0\" stroke=\"black\" stroke-width=\"1\"/>\n",
       "    <text x=\"12.5\" y=\"190.0\" dominant-baseline=\"middle\" text-anchor=\"start\" fill=\"black\">90.0</text>\n",
       "    <text x=\"237.5\" y=\"190.0\" dominant-baseline=\"middle\" text-anchor=\"end\" fill=\"black\">140.0</text>\n",
       "</svg>\n",
       "</div>\n",
       "    <div style=\"float:left; margin:5px; max-width: 50%; display:flex; justify-content:center; align-items:center;\">\n",
       "        <ul>\n",
       "            <li>edges: 90:140</li>\n",
       "            <li>bin counts: [39.0, 31.0, 30.0, 32.0, 40.0, 38.0, 39.0, 42.0, 49.0, 56.0  …  31.0, 33.0, 30.0, 16.0, 7.0, 12.0, 13.0, 4.0, 10.0, 7.0]</li>\n",
       "            <li>maximum count: 4349.0</li>\n",
       "            <li>total count: 18445.0</li>\n",
       "        </ul>\n",
       "    </div>\n",
       "</div>\n",
       "\n"
      ],
      "text/plain": [
       "edges: 90:140\n",
       "bin counts: [39.0, 31.0, 30.0, 32.0, 40.0, 38.0, 39.0, 42.0, 49.0, 56.0  …  31.0, 33.0, 30.0, 16.0, 7.0, 12.0, 13.0, 4.0, 10.0, 7.0]\n",
       "total count: 18445.0"
      ]
     },
     "execution_count": 49,
     "metadata": {},
     "output_type": "execute_result"
    }
   ],
   "source": [
    "h1_MT = @time main_looper_MT(events) # file too small to help"
   ]
  },
  {
   "cell_type": "markdown",
   "id": "3f0f706a",
   "metadata": {
    "slideshow": {
     "slide_type": "slide"
    }
   },
   "source": [
    "## Scale distributedly\n",
    "\n",
    "No runnable demo here, but:\n",
    "- https://indico.jlab.org/event/459/contributions/11560/attachments/9692/14160/High-performance%20end-user%20analysis%20with%20Julia%20language.pdf#page=29\n",
    "- https://jiling.web.cern.ch/jiling/public/ClusterManager.pdf#page=10\n",
    "\n",
    "tl;dr; Julia has Dask primitives built-in, but lacking wholesale solution such as Dask, keep an eye out for: https://github.com/JuliaParallel/Dagger.jl"
   ]
  }
 ],
 "metadata": {
  "celltoolbar": "Slideshow",
  "kernelspec": {
   "display_name": "Julia 1.9.2",
   "language": "julia",
   "name": "julia-1.9"
  },
  "language_info": {
   "file_extension": ".jl",
   "mimetype": "application/julia",
   "name": "julia",
   "version": "1.9.2"
  }
 },
 "nbformat": 4,
 "nbformat_minor": 5
}
